{
  "nbformat": 4,
  "nbformat_minor": 0,
  "metadata": {
    "colab": {
      "name": "Untitled4.ipynb",
      "provenance": []
    },
    "kernelspec": {
      "name": "python3",
      "display_name": "Python 3"
    }
  },
  "cells": [
    {
      "cell_type": "code",
      "metadata": {
        "id": "8N6HoQVJBQIg",
        "colab_type": "code",
        "colab": {
          "base_uri": "https://localhost:8080/",
          "height": 102
        },
        "outputId": "06942a80-a327-4dc4-b441-cf99458c5f30"
      },
      "source": [
        "x = int(input(\"請輸入起始的整數:\")) # start\n",
        "y = int(input(\"請輸入終止的整數:\")) # stop\n",
        "i = x # start\n",
        "while i <= y: # stop\n",
        "    # task\n",
        "    if i % 2 == 1:\n",
        "        print(i)\n",
        "    i += 1 # stop"
      ],
      "execution_count": 3,
      "outputs": [
        {
          "output_type": "stream",
          "text": [
            "請輸入起始的整數:5\n",
            "請輸入終止的整數:10\n",
            "5\n",
            "7\n",
            "9\n"
          ],
          "name": "stdout"
        }
      ]
    },
    {
      "cell_type": "code",
      "metadata": {
        "id": "BblCPaMYE-QB",
        "colab_type": "code",
        "colab": {
          "base_uri": "https://localhost:8080/",
          "height": 51
        },
        "outputId": "ebff634a-38b8-4e27-b0d0-95ec57323ebf"
      },
      "source": [
        "x = int(input(\"請輸入起始的整數:\"))\n",
        "y = int(input(\"請輸入終止的整數:\"))\n",
        "odd_counter = 0 # 歸零\n",
        "i = x # start\n",
        "while i <= y: # stop\n",
        "    # task\n",
        "    if i % 2 == 1:\n",
        "        #odd_counter = odd_counter + 1 # = NOT ==\n",
        "        odd_counter += 1 # 計數累計\n",
        "    #print(odd_counter)\n",
        "    i += 1 # step\n",
        "print(\"======\")\n",
        "print(odd_counter)"
      ],
      "execution_count": 4,
      "outputs": [
        {
          "output_type": "stream",
          "text": [
            "請輸入起始的整數:5\n",
            "請輸入終止的整數:01\n"
          ],
          "name": "stdout"
        }
      ]
    },
    {
      "cell_type": "code",
      "metadata": {
        "id": "-oeYQtzLJejd",
        "colab_type": "code",
        "colab": {
          "base_uri": "https://localhost:8080/",
          "height": 85
        },
        "outputId": "fccf1c75-a345-4c70-8e66-28b91777b738"
      },
      "source": [
        "x = int(input(\"請輸入起始的整數:\"))\n",
        "y = int(input(\"請輸入終止的整數:\"))\n",
        "odd_summation = 0 # 歸零\n",
        "i = x # start\n",
        "while i <= y: # stop\n",
        "    # task\n",
        "    if i % 2 == 1:\n",
        "        odd_summation = odd_summation + i # 數值累加\n",
        "    i += 1 # step\n",
        "print(\"======\")\n",
        "print(odd_summation)"
      ],
      "execution_count": 6,
      "outputs": [
        {
          "output_type": "stream",
          "text": [
            "請輸入起始的整數:5\n",
            "請輸入終止的整數:10\n",
            "======\n",
            "21\n"
          ],
          "name": "stdout"
        }
      ]
    },
    {
      "cell_type": "code",
      "metadata": {
        "id": "8m8cN_tsJe79",
        "colab_type": "code",
        "colab": {
          "base_uri": "https://localhost:8080/",
          "height": 204
        },
        "outputId": "397511e7-3fe3-4e74-ff6f-bda2c7e9f72f"
      },
      "source": [
        "x = int(input(\"請輸入起始的整數:\"))\n",
        "y = int(input(\"請輸入終止的整數:\"))\n",
        "odd_summation = 0 # 歸零\n",
        "odd_counter = 0\n",
        "i = x # start\n",
        "while i <= y: # stop\n",
        "    # task\n",
        "    if i % 2 == 1:\n",
        "        odd_counter += 1 # 計數累計\n",
        "        odd_summation += i # 數值累加\n",
        "        print(\"現在的整數是:{}, 奇數計數為{}個, 總和為{}\".format(i, odd_counter, odd_summation))\n",
        "    else:\n",
        "        print(\"現在的整數是:{}, 奇數計數為{}個, 總和為{}\".format(i, odd_counter, odd_summation))\n",
        "    i += 1 # step\n",
        "print(\"======\")\n",
        "print(odd_counter)\n",
        "print(odd_summation)"
      ],
      "execution_count": 8,
      "outputs": [
        {
          "output_type": "stream",
          "text": [
            "請輸入起始的整數:5\n",
            "請輸入終止的整數:10\n",
            "現在的整數是:5, 奇數計數為1個, 總和為5\n",
            "現在的整數是:6, 奇數計數為1個, 總和為5\n",
            "現在的整數是:7, 奇數計數為2個, 總和為12\n",
            "現在的整數是:8, 奇數計數為2個, 總和為12\n",
            "現在的整數是:9, 奇數計數為3個, 總和為21\n",
            "現在的整數是:10, 奇數計數為3個, 總和為21\n",
            "======\n",
            "3\n",
            "21\n"
          ],
          "name": "stdout"
        }
      ]
    },
    {
      "cell_type": "code",
      "metadata": {
        "id": "ml1pZCzELeQm",
        "colab_type": "code",
        "colab": {
          "base_uri": "https://localhost:8080/",
          "height": 544
        },
        "outputId": "5ad9eae4-eebf-4ff6-f054-6f91fddd5cf3"
      },
      "source": [
        "x = int(input(\"請輸入一個正整數:\"))\n",
        "i = 1 # start\n",
        "divisor_counter = 0\n",
        "while i <= x: # stop\n",
        "    if x % i == 0:\n",
        "        divisor_counter += 1\n",
        "        print(\"{}可以被{}整除\".format(x, i))\n",
        "        print(\"因數個數目前有{}個\".format(divisor_counter))\n",
        "        print(\"======\")\n",
        "    i += 1 # step\n",
        "print(\"### Answer ###\")\n",
        "print(\"{}有{}個因數!\".format(x, divisor_counter))\n",
        "if divisor_counter == 2:\n",
        "    print(\"{}是質數\".format(x))\n",
        "else:\n",
        "    print(\"{}不是質數\".format(x))"
      ],
      "execution_count": 18,
      "outputs": [
        {
          "output_type": "stream",
          "text": [
            "請輸入一個正整數:100\n",
            "100可以被1整除\n",
            "因數個數目前有1個\n",
            "======\n",
            "100可以被2整除\n",
            "因數個數目前有2個\n",
            "======\n",
            "100可以被4整除\n",
            "因數個數目前有3個\n",
            "======\n",
            "100可以被5整除\n",
            "因數個數目前有4個\n",
            "======\n",
            "100可以被10整除\n",
            "因數個數目前有5個\n",
            "======\n",
            "100可以被20整除\n",
            "因數個數目前有6個\n",
            "======\n",
            "100可以被25整除\n",
            "因數個數目前有7個\n",
            "======\n",
            "100可以被50整除\n",
            "因數個數目前有8個\n",
            "======\n",
            "100可以被100整除\n",
            "因數個數目前有9個\n",
            "======\n",
            "### Answer ###\n",
            "100有9個因數!\n",
            "100不是質數\n"
          ],
          "name": "stdout"
        }
      ]
    },
    {
      "cell_type": "code",
      "metadata": {
        "id": "6I8wFPMtZQgc",
        "colab_type": "code",
        "colab": {}
      },
      "source": [
        "i = 1 # start\n",
        "while i <= 100: # stop\n",
        "    if i % 15 == 0:\n",
        "        print(\"Fizz Buzz\")\n",
        "    elif i % 3 == 0:\n",
        "        print(\"Fizz\")\n",
        "    elif i % 5 == 0:\n",
        "        print(\"Buzz\")\n",
        "    else:\n",
        "        print(i)\n",
        "    i += 1 # step"
      ],
      "execution_count": 0,
      "outputs": []
    }
  ]
}