{
  "nbformat": 4,
  "nbformat_minor": 0,
  "metadata": {
    "colab": {
      "name": "Untitled4.ipynb",
      "provenance": []
    },
    "kernelspec": {
      "name": "python3",
      "display_name": "Python 3"
    }
  },
  "cells": [
    {
      "cell_type": "code",
      "metadata": {
        "id": "ajkALvr19SmP",
        "colab_type": "code",
        "colab": {
          "base_uri": "https://localhost:8080/",
          "height": 105
        },
        "outputId": "0d7f7553-3873-4c24-b2bb-99b84af29e56"
      },
      "source": [
        "import pandas as pd\n",
        "\n",
        "covid19_ts = pd.read_csv(\"https://raw.githubusercontent.com/CSSEGISandData/COVID-19/master/csse_covid_19_data/csse_covid_19_time_series/time_series_covid19_confirmed_global.csv\")\n",
        "covid19_ts_tw = covid19_ts[covid19_ts['Country/Region'] == 'Taiwan*']\n",
        "cumulative_confirmed_tw = list(covid19_ts_tw.loc[:,'1/22/20':'5/27/20'].values.ravel())\n",
        "dates = list(covid19_ts_tw.loc[:, '1/22/20':'5/27/20'].columns)\n",
        "print(dates)\n",
        "print(len(dates))\n",
        "print(cumulative_confirmed_tw)\n",
        "print(len(cumulative_confirmed_tw))\n",
        "# 在這 127 天中，哪些\"日期\"是零新增確診?"
      ],
      "execution_count": 1,
      "outputs": [
        {
          "output_type": "stream",
          "text": [
            "['1/22/20', '1/23/20', '1/24/20', '1/25/20', '1/26/20', '1/27/20', '1/28/20', '1/29/20', '1/30/20', '1/31/20', '2/1/20', '2/2/20', '2/3/20', '2/4/20', '2/5/20', '2/6/20', '2/7/20', '2/8/20', '2/9/20', '2/10/20', '2/11/20', '2/12/20', '2/13/20', '2/14/20', '2/15/20', '2/16/20', '2/17/20', '2/18/20', '2/19/20', '2/20/20', '2/21/20', '2/22/20', '2/23/20', '2/24/20', '2/25/20', '2/26/20', '2/27/20', '2/28/20', '2/29/20', '3/1/20', '3/2/20', '3/3/20', '3/4/20', '3/5/20', '3/6/20', '3/7/20', '3/8/20', '3/9/20', '3/10/20', '3/11/20', '3/12/20', '3/13/20', '3/14/20', '3/15/20', '3/16/20', '3/17/20', '3/18/20', '3/19/20', '3/20/20', '3/21/20', '3/22/20', '3/23/20', '3/24/20', '3/25/20', '3/26/20', '3/27/20', '3/28/20', '3/29/20', '3/30/20', '3/31/20', '4/1/20', '4/2/20', '4/3/20', '4/4/20', '4/5/20', '4/6/20', '4/7/20', '4/8/20', '4/9/20', '4/10/20', '4/11/20', '4/12/20', '4/13/20', '4/14/20', '4/15/20', '4/16/20', '4/17/20', '4/18/20', '4/19/20', '4/20/20', '4/21/20', '4/22/20', '4/23/20', '4/24/20', '4/25/20', '4/26/20', '4/27/20', '4/28/20', '4/29/20', '4/30/20', '5/1/20', '5/2/20', '5/3/20', '5/4/20', '5/5/20', '5/6/20', '5/7/20', '5/8/20', '5/9/20', '5/10/20', '5/11/20', '5/12/20', '5/13/20', '5/14/20', '5/15/20', '5/16/20', '5/17/20', '5/18/20', '5/19/20', '5/20/20', '5/21/20', '5/22/20', '5/23/20', '5/24/20', '5/25/20', '5/26/20', '5/27/20']\n",
            "127\n",
            "[1, 1, 3, 3, 4, 5, 8, 8, 9, 10, 10, 10, 10, 11, 11, 16, 16, 17, 18, 18, 18, 18, 18, 18, 18, 20, 22, 22, 23, 24, 26, 26, 28, 30, 31, 32, 32, 34, 39, 40, 41, 42, 42, 44, 45, 45, 45, 45, 47, 48, 49, 50, 53, 59, 67, 77, 100, 108, 135, 153, 169, 195, 215, 235, 252, 267, 283, 298, 306, 322, 329, 339, 348, 355, 363, 373, 376, 379, 380, 382, 385, 388, 393, 393, 395, 395, 395, 398, 420, 422, 425, 426, 427, 428, 429, 429, 429, 429, 429, 429, 429, 432, 436, 438, 438, 439, 440, 440, 440, 440, 440, 440, 440, 440, 440, 440, 440, 440, 440, 440, 440, 441, 441, 441, 441, 441, 441]\n",
            "127\n"
          ],
          "name": "stdout"
        }
      ]
    },
    {
      "cell_type": "code",
      "metadata": {
        "id": "kxHEbhgU9Yo-",
        "colab_type": "code",
        "colab": {
          "base_uri": "https://localhost:8080/",
          "height": 71
        },
        "outputId": "384df9c2-8acf-4c65-f965-daa195df06dc"
      },
      "source": [
        "cumulative_confirmed_tw_lag = [cumulative_confirmed_tw[i] for i in range(len(cumulative_confirmed_tw)-1)]\n",
        "cumulative_confirmed_tw_lag.insert(0, 0)\n",
        "print(cumulative_confirmed_tw_lag)\n",
        "print(len(cumulative_confirmed_tw_lag))"
      ],
      "execution_count": 2,
      "outputs": [
        {
          "output_type": "stream",
          "text": [
            "[0, 1, 1, 3, 3, 4, 5, 8, 8, 9, 10, 10, 10, 10, 11, 11, 16, 16, 17, 18, 18, 18, 18, 18, 18, 18, 20, 22, 22, 23, 24, 26, 26, 28, 30, 31, 32, 32, 34, 39, 40, 41, 42, 42, 44, 45, 45, 45, 45, 47, 48, 49, 50, 53, 59, 67, 77, 100, 108, 135, 153, 169, 195, 215, 235, 252, 267, 283, 298, 306, 322, 329, 339, 348, 355, 363, 373, 376, 379, 380, 382, 385, 388, 393, 393, 395, 395, 395, 398, 420, 422, 425, 426, 427, 428, 429, 429, 429, 429, 429, 429, 429, 432, 436, 438, 438, 439, 440, 440, 440, 440, 440, 440, 440, 440, 440, 440, 440, 440, 440, 440, 440, 441, 441, 441, 441, 441]\n",
            "127\n"
          ],
          "name": "stdout"
        }
      ]
    },
    {
      "cell_type": "code",
      "metadata": {
        "id": "ECAhzqgT9Yrx",
        "colab_type": "code",
        "colab": {
          "base_uri": "https://localhost:8080/",
          "height": 71
        },
        "outputId": "d3fc4fcd-1b66-4546-9c68-2c414f4a1922"
      },
      "source": [
        "daily_increase_tw = []\n",
        "for i, j in zip(cumulative_confirmed_tw, cumulative_confirmed_tw_lag):\n",
        "    daily_increase = i - j\n",
        "    daily_increase_tw.append(daily_increase)\n",
        "print(daily_increase_tw)\n",
        "print(len(daily_increase_tw))"
      ],
      "execution_count": 3,
      "outputs": [
        {
          "output_type": "stream",
          "text": [
            "[1, 0, 2, 0, 1, 1, 3, 0, 1, 1, 0, 0, 0, 1, 0, 5, 0, 1, 1, 0, 0, 0, 0, 0, 0, 2, 2, 0, 1, 1, 2, 0, 2, 2, 1, 1, 0, 2, 5, 1, 1, 1, 0, 2, 1, 0, 0, 0, 2, 1, 1, 1, 3, 6, 8, 10, 23, 8, 27, 18, 16, 26, 20, 20, 17, 15, 16, 15, 8, 16, 7, 10, 9, 7, 8, 10, 3, 3, 1, 2, 3, 3, 5, 0, 2, 0, 0, 3, 22, 2, 3, 1, 1, 1, 1, 0, 0, 0, 0, 0, 0, 3, 4, 2, 0, 1, 1, 0, 0, 0, 0, 0, 0, 0, 0, 0, 0, 0, 0, 0, 0, 1, 0, 0, 0, 0, 0]\n",
            "127\n"
          ],
          "name": "stdout"
        }
      ]
    },
    {
      "cell_type": "code",
      "metadata": {
        "id": "BFnyas789Yux",
        "colab_type": "code",
        "colab": {
          "base_uri": "https://localhost:8080/",
          "height": 71
        },
        "outputId": "f5582381-d1e8-4268-a87f-8eeb360bca80"
      },
      "source": [
        "daily_increase_tw = [i - j for i, j in zip(cumulative_confirmed_tw, cumulative_confirmed_tw_lag)]\n",
        "print(daily_increase_tw)\n",
        "print(len(daily_increase_tw))"
      ],
      "execution_count": 4,
      "outputs": [
        {
          "output_type": "stream",
          "text": [
            "[1, 0, 2, 0, 1, 1, 3, 0, 1, 1, 0, 0, 0, 1, 0, 5, 0, 1, 1, 0, 0, 0, 0, 0, 0, 2, 2, 0, 1, 1, 2, 0, 2, 2, 1, 1, 0, 2, 5, 1, 1, 1, 0, 2, 1, 0, 0, 0, 2, 1, 1, 1, 3, 6, 8, 10, 23, 8, 27, 18, 16, 26, 20, 20, 17, 15, 16, 15, 8, 16, 7, 10, 9, 7, 8, 10, 3, 3, 1, 2, 3, 3, 5, 0, 2, 0, 0, 3, 22, 2, 3, 1, 1, 1, 1, 0, 0, 0, 0, 0, 0, 3, 4, 2, 0, 1, 1, 0, 0, 0, 0, 0, 0, 0, 0, 0, 0, 0, 0, 0, 0, 1, 0, 0, 0, 0, 0]\n",
            "127\n"
          ],
          "name": "stdout"
        }
      ]
    },
    {
      "cell_type": "code",
      "metadata": {
        "id": "WWDgthWd9YyR",
        "colab_type": "code",
        "colab": {
          "base_uri": "https://localhost:8080/",
          "height": 71
        },
        "outputId": "0066edc5-c17f-48f0-dadf-966da4324f73"
      },
      "source": [
        "print(dates)\n",
        "print(daily_increase_tw)"
      ],
      "execution_count": 5,
      "outputs": [
        {
          "output_type": "stream",
          "text": [
            "['1/22/20', '1/23/20', '1/24/20', '1/25/20', '1/26/20', '1/27/20', '1/28/20', '1/29/20', '1/30/20', '1/31/20', '2/1/20', '2/2/20', '2/3/20', '2/4/20', '2/5/20', '2/6/20', '2/7/20', '2/8/20', '2/9/20', '2/10/20', '2/11/20', '2/12/20', '2/13/20', '2/14/20', '2/15/20', '2/16/20', '2/17/20', '2/18/20', '2/19/20', '2/20/20', '2/21/20', '2/22/20', '2/23/20', '2/24/20', '2/25/20', '2/26/20', '2/27/20', '2/28/20', '2/29/20', '3/1/20', '3/2/20', '3/3/20', '3/4/20', '3/5/20', '3/6/20', '3/7/20', '3/8/20', '3/9/20', '3/10/20', '3/11/20', '3/12/20', '3/13/20', '3/14/20', '3/15/20', '3/16/20', '3/17/20', '3/18/20', '3/19/20', '3/20/20', '3/21/20', '3/22/20', '3/23/20', '3/24/20', '3/25/20', '3/26/20', '3/27/20', '3/28/20', '3/29/20', '3/30/20', '3/31/20', '4/1/20', '4/2/20', '4/3/20', '4/4/20', '4/5/20', '4/6/20', '4/7/20', '4/8/20', '4/9/20', '4/10/20', '4/11/20', '4/12/20', '4/13/20', '4/14/20', '4/15/20', '4/16/20', '4/17/20', '4/18/20', '4/19/20', '4/20/20', '4/21/20', '4/22/20', '4/23/20', '4/24/20', '4/25/20', '4/26/20', '4/27/20', '4/28/20', '4/29/20', '4/30/20', '5/1/20', '5/2/20', '5/3/20', '5/4/20', '5/5/20', '5/6/20', '5/7/20', '5/8/20', '5/9/20', '5/10/20', '5/11/20', '5/12/20', '5/13/20', '5/14/20', '5/15/20', '5/16/20', '5/17/20', '5/18/20', '5/19/20', '5/20/20', '5/21/20', '5/22/20', '5/23/20', '5/24/20', '5/25/20', '5/26/20', '5/27/20']\n",
            "[1, 0, 2, 0, 1, 1, 3, 0, 1, 1, 0, 0, 0, 1, 0, 5, 0, 1, 1, 0, 0, 0, 0, 0, 0, 2, 2, 0, 1, 1, 2, 0, 2, 2, 1, 1, 0, 2, 5, 1, 1, 1, 0, 2, 1, 0, 0, 0, 2, 1, 1, 1, 3, 6, 8, 10, 23, 8, 27, 18, 16, 26, 20, 20, 17, 15, 16, 15, 8, 16, 7, 10, 9, 7, 8, 10, 3, 3, 1, 2, 3, 3, 5, 0, 2, 0, 0, 3, 22, 2, 3, 1, 1, 1, 1, 0, 0, 0, 0, 0, 0, 3, 4, 2, 0, 1, 1, 0, 0, 0, 0, 0, 0, 0, 0, 0, 0, 0, 0, 0, 0, 1, 0, 0, 0, 0, 0]\n"
          ],
          "name": "stdout"
        }
      ]
    },
    {
      "cell_type": "code",
      "metadata": {
        "id": "7JUZ6VZb9Y1J",
        "colab_type": "code",
        "colab": {
          "base_uri": "https://localhost:8080/",
          "height": 71
        },
        "outputId": "95f755b7-e85f-49fc-b30f-c16356610470"
      },
      "source": [
        "plus_zero_dates = []\n",
        "for d, di in zip(dates, daily_increase_tw):\n",
        "    if di == 0:\n",
        "        plus_zero_dates.append(d)\n",
        "print(plus_zero_dates)\n",
        "print(len(plus_zero_dates))"
      ],
      "execution_count": 6,
      "outputs": [
        {
          "output_type": "stream",
          "text": [
            "['1/23/20', '1/25/20', '1/29/20', '2/1/20', '2/2/20', '2/3/20', '2/5/20', '2/7/20', '2/10/20', '2/11/20', '2/12/20', '2/13/20', '2/14/20', '2/15/20', '2/18/20', '2/22/20', '2/27/20', '3/4/20', '3/7/20', '3/8/20', '3/9/20', '4/14/20', '4/16/20', '4/17/20', '4/26/20', '4/27/20', '4/28/20', '4/29/20', '4/30/20', '5/1/20', '5/5/20', '5/8/20', '5/9/20', '5/10/20', '5/11/20', '5/12/20', '5/13/20', '5/14/20', '5/15/20', '5/16/20', '5/17/20', '5/18/20', '5/19/20', '5/20/20', '5/21/20', '5/23/20', '5/24/20', '5/25/20', '5/26/20', '5/27/20']\n",
            "50\n"
          ],
          "name": "stdout"
        }
      ]
    },
    {
      "cell_type": "code",
      "metadata": {
        "id": "dPW7Oj1M9Y4Z",
        "colab_type": "code",
        "colab": {
          "base_uri": "https://localhost:8080/",
          "height": 71
        },
        "outputId": "55cd800f-9800-461f-8b0b-ae6b9adc9b04"
      },
      "source": [
        "plus_zero_dates = [d for d, di in zip(dates, daily_increase_tw) if di == 0]\n",
        "print(plus_zero_dates)\n",
        "print(len(plus_zero_dates))"
      ],
      "execution_count": 7,
      "outputs": [
        {
          "output_type": "stream",
          "text": [
            "['1/23/20', '1/25/20', '1/29/20', '2/1/20', '2/2/20', '2/3/20', '2/5/20', '2/7/20', '2/10/20', '2/11/20', '2/12/20', '2/13/20', '2/14/20', '2/15/20', '2/18/20', '2/22/20', '2/27/20', '3/4/20', '3/7/20', '3/8/20', '3/9/20', '4/14/20', '4/16/20', '4/17/20', '4/26/20', '4/27/20', '4/28/20', '4/29/20', '4/30/20', '5/1/20', '5/5/20', '5/8/20', '5/9/20', '5/10/20', '5/11/20', '5/12/20', '5/13/20', '5/14/20', '5/15/20', '5/16/20', '5/17/20', '5/18/20', '5/19/20', '5/20/20', '5/21/20', '5/23/20', '5/24/20', '5/25/20', '5/26/20', '5/27/20']\n",
            "50\n"
          ],
          "name": "stdout"
        }
      ]
    },
    {
      "cell_type": "code",
      "metadata": {
        "id": "NrehH6_J9Y7Z",
        "colab_type": "code",
        "colab": {
          "base_uri": "https://localhost:8080/",
          "height": 51
        },
        "outputId": "7be87b95-84fa-45c4-8cc4-638233bff797"
      },
      "source": [
        "from random import sample\n",
        "\n",
        "n_samples = 0\n",
        "while True:\n",
        "    random_integer = sample(range(1, 1001), 1)[0]\n",
        "    n_samples += 1\n",
        "    if random_integer % 56 == 0:\n",
        "        break\n",
        "print(random_integer)\n",
        "print(n_samples)"
      ],
      "execution_count": 8,
      "outputs": [
        {
          "output_type": "stream",
          "text": [
            "224\n",
            "4\n"
          ],
          "name": "stdout"
        }
      ]
    },
    {
      "cell_type": "code",
      "metadata": {
        "id": "ZtnmyW8R9Y-Z",
        "colab_type": "code",
        "colab": {
          "base_uri": "https://localhost:8080/",
          "height": 51
        },
        "outputId": "e005c0dc-a17d-4333-e9d4-c3ccf8b03a36"
      },
      "source": [
        "sample_history = []\n",
        "while True:\n",
        "    random_integer = sample(range(1, 1001), 1)[0]\n",
        "    sample_history.append(random_integer)\n",
        "    if random_integer % 56 == 0:\n",
        "        break\n",
        "print(sample_history)\n",
        "print(len(sample_history))"
      ],
      "execution_count": 9,
      "outputs": [
        {
          "output_type": "stream",
          "text": [
            "[768, 322, 115, 614, 117, 94, 849, 215, 65, 827, 976, 947, 341, 81, 333, 822, 456, 216, 465, 5, 863, 599, 306, 831, 232, 248, 769, 262, 183, 360, 336]\n",
            "31\n"
          ],
          "name": "stdout"
        }
      ]
    },
    {
      "cell_type": "code",
      "metadata": {
        "id": "vvT54KBo9ZBp",
        "colab_type": "code",
        "colab": {
          "base_uri": "https://localhost:8080/",
          "height": 34
        },
        "outputId": "2a03548b-5bd3-44e9-e952-19aa645fb4f9"
      },
      "source": [
        "n_vowels = 0 \n",
        "for i in 'azcbobobegghak':\n",
        "    if i in ['a', 'e', 'i', 'o', 'u']:\n",
        "        #print(i)\n",
        "        n_vowels += 1\n",
        "print(n_vowels)"
      ],
      "execution_count": 10,
      "outputs": [
        {
          "output_type": "stream",
          "text": [
            "5\n"
          ],
          "name": "stdout"
        }
      ]
    },
    {
      "cell_type": "code",
      "metadata": {
        "id": "Lu7DePl-9ZFR",
        "colab_type": "code",
        "colab": {
          "base_uri": "https://localhost:8080/",
          "height": 34
        },
        "outputId": "29464d8b-a932-4261-e839-37fca7d98833"
      },
      "source": [
        "test_str = 'azcbobobegghak'\n",
        "n_char = len(test_str)\n",
        "n_bobs = 0\n",
        "for i in range(n_char - 2):\n",
        "    #print(test_str[i:i+3])\n",
        "    if test_str[i:i+3] == 'bob':\n",
        "        n_bobs += 1\n",
        "print(n_bobs)"
      ],
      "execution_count": 11,
      "outputs": [
        {
          "output_type": "stream",
          "text": [
            "2\n"
          ],
          "name": "stdout"
        }
      ]
    },
    {
      "cell_type": "code",
      "metadata": {
        "id": "zKLD1tK39ZIJ",
        "colab_type": "code",
        "colab": {
          "base_uri": "https://localhost:8080/",
          "height": 34
        },
        "outputId": "2c30b4ac-13e4-4312-ab82-87698e2ec55f"
      },
      "source": [
        "x = list(range(1, 101))\n",
        "N = len(x)\n",
        "x_bar = sum(x) / N\n",
        "sse = 0\n",
        "for xi in x:\n",
        "    #error = xi - x_bar\n",
        "    squared_error = (xi - x_bar)**2\n",
        "    sse += squared_error #sse = sse + squared_error\n",
        "sample_mse = sse / (N-1)\n",
        "sample_stdev = sample_mse**(0.5)\n",
        "print(sample_stdev)"
      ],
      "execution_count": 12,
      "outputs": [
        {
          "output_type": "stream",
          "text": [
            "29.011491975882016\n"
          ],
          "name": "stdout"
        }
      ]
    },
    {
      "cell_type": "code",
      "metadata": {
        "id": "4R3jz69Z9ZLh",
        "colab_type": "code",
        "colab": {
          "base_uri": "https://localhost:8080/",
          "height": 34
        },
        "outputId": "1f1f81d2-b280-4ca4-97ec-0b2fa5d56c64"
      },
      "source": [
        "from statistics import stdev\n",
        "\n",
        "stdev(range(1, 101)) # [1, 2, 3, ..., 100]"
      ],
      "execution_count": 13,
      "outputs": [
        {
          "output_type": "execute_result",
          "data": {
            "text/plain": [
              "29.011491975882016"
            ]
          },
          "metadata": {
            "tags": []
          },
          "execution_count": 13
        }
      ]
    },
    {
      "cell_type": "code",
      "metadata": {
        "id": "vp9EjTIs9ZOp",
        "colab_type": "code",
        "colab": {
          "base_uri": "https://localhost:8080/",
          "height": 255
        },
        "outputId": "71c8e6d5-e64f-4d4d-aea1-9319468ede15"
      },
      "source": [
        "print(\"Luke\")\n",
        "print(\"use the Force!\")\n",
        "help(print)"
      ],
      "execution_count": 14,
      "outputs": [
        {
          "output_type": "stream",
          "text": [
            "Luke\n",
            "use the Force!\n",
            "Help on built-in function print in module builtins:\n",
            "\n",
            "print(...)\n",
            "    print(value, ..., sep=' ', end='\\n', file=sys.stdout, flush=False)\n",
            "    \n",
            "    Prints the values to a stream, or to sys.stdout by default.\n",
            "    Optional keyword arguments:\n",
            "    file:  a file-like object (stream); defaults to the current sys.stdout.\n",
            "    sep:   string inserted between values, default a space.\n",
            "    end:   string appended after the last value, default a newline.\n",
            "    flush: whether to forcibly flush the stream.\n",
            "\n"
          ],
          "name": "stdout"
        }
      ]
    },
    {
      "cell_type": "code",
      "metadata": {
        "id": "FvqNjx8D9ZRx",
        "colab_type": "code",
        "colab": {
          "base_uri": "https://localhost:8080/",
          "height": 34
        },
        "outputId": "a6dfe4b7-b73a-4491-f03f-36cee2c002f5"
      },
      "source": [
        "print(\"Luke\", end=\", \")\n",
        "print(\"use the Force!\")"
      ],
      "execution_count": 15,
      "outputs": [
        {
          "output_type": "stream",
          "text": [
            "Luke, use the Force!\n"
          ],
          "name": "stdout"
        }
      ]
    },
    {
      "cell_type": "code",
      "metadata": {
        "id": "55_rR_MU9ZUx",
        "colab_type": "code",
        "colab": {
          "base_uri": "https://localhost:8080/",
          "height": 34
        },
        "outputId": "5b6cffd6-167b-4efa-9fa7-359b7a9e7c52"
      },
      "source": [
        "abs(-5566)"
      ],
      "execution_count": 16,
      "outputs": [
        {
          "output_type": "execute_result",
          "data": {
            "text/plain": [
              "5566"
            ]
          },
          "metadata": {
            "tags": []
          },
          "execution_count": 16
        }
      ]
    },
    {
      "cell_type": "code",
      "metadata": {
        "id": "cjFEfVmk9ZXx",
        "colab_type": "code",
        "colab": {
          "base_uri": "https://localhost:8080/",
          "height": 34
        },
        "outputId": "82b857a9-b17f-4b43-e9d8-b428d1efa61a"
      },
      "source": [
        "abs(0)"
      ],
      "execution_count": 17,
      "outputs": [
        {
          "output_type": "execute_result",
          "data": {
            "text/plain": [
              "0"
            ]
          },
          "metadata": {
            "tags": []
          },
          "execution_count": 17
        }
      ]
    },
    {
      "cell_type": "code",
      "metadata": {
        "id": "UtEur7-Q9wEs",
        "colab_type": "code",
        "colab": {}
      },
      "source": [
        "def absolute(x):\n",
        "    \"\"\"\n",
        "    Returns the absolute value of x.\n",
        "    \"\"\"\n",
        "    if x < 0:\n",
        "        return -x\n",
        "    else:\n",
        "        return x"
      ],
      "execution_count": 0,
      "outputs": []
    },
    {
      "cell_type": "code",
      "metadata": {
        "id": "1JVgBSLF9wHt",
        "colab_type": "code",
        "colab": {
          "base_uri": "https://localhost:8080/",
          "height": 102
        },
        "outputId": "01dd2de3-7cc4-47e6-e1ca-7c839d81fa8a"
      },
      "source": [
        "help(absolute)"
      ],
      "execution_count": 20,
      "outputs": [
        {
          "output_type": "stream",
          "text": [
            "Help on function absolute in module __main__:\n",
            "\n",
            "absolute(x)\n",
            "    Returns the absolute value of x.\n",
            "\n"
          ],
          "name": "stdout"
        }
      ]
    },
    {
      "cell_type": "code",
      "metadata": {
        "id": "E0SFvpTt9wKm",
        "colab_type": "code",
        "colab": {
          "base_uri": "https://localhost:8080/",
          "height": 34
        },
        "outputId": "000c32c9-9b65-4636-b3f3-dce499211d76"
      },
      "source": [
        "positive_56 = absolute(-5566)\n",
        "print(positive_56)"
      ],
      "execution_count": 21,
      "outputs": [
        {
          "output_type": "stream",
          "text": [
            "5566\n"
          ],
          "name": "stdout"
        }
      ]
    },
    {
      "cell_type": "code",
      "metadata": {
        "id": "YXhvOeaK9wNO",
        "colab_type": "code",
        "colab": {
          "base_uri": "https://localhost:8080/",
          "height": 34
        },
        "outputId": "88124410-7d29-4114-df04-fc0dbb9bc9bb"
      },
      "source": [
        "absolute(0)"
      ],
      "execution_count": 22,
      "outputs": [
        {
          "output_type": "execute_result",
          "data": {
            "text/plain": [
              "0"
            ]
          },
          "metadata": {
            "tags": []
          },
          "execution_count": 22
        }
      ]
    },
    {
      "cell_type": "code",
      "metadata": {
        "id": "xnyrc8gX9wQA",
        "colab_type": "code",
        "colab": {}
      },
      "source": [
        "def absolute(x):\n",
        "    \"\"\"\n",
        "    Returns the absolute value of x.\n",
        "    \"\"\"\n",
        "    if x < 0:\n",
        "        print(-x)\n",
        "    else:\n",
        "        print(x)"
      ],
      "execution_count": 0,
      "outputs": []
    },
    {
      "cell_type": "code",
      "metadata": {
        "id": "MVpgmtuI9wTF",
        "colab_type": "code",
        "colab": {
          "base_uri": "https://localhost:8080/",
          "height": 34
        },
        "outputId": "9efd7473-b7f6-4a65-d0bf-e693340e373d"
      },
      "source": [
        "absolute(-5566)"
      ],
      "execution_count": 24,
      "outputs": [
        {
          "output_type": "stream",
          "text": [
            "5566\n"
          ],
          "name": "stdout"
        }
      ]
    },
    {
      "cell_type": "code",
      "metadata": {
        "id": "Q9DBm9aA9wV9",
        "colab_type": "code",
        "colab": {
          "base_uri": "https://localhost:8080/",
          "height": 51
        },
        "outputId": "83e92984-f51e-4a3c-bce2-381045fec746"
      },
      "source": [
        "positive_56 = absolute(-5566)\n",
        "print(positive_56)"
      ],
      "execution_count": 25,
      "outputs": [
        {
          "output_type": "stream",
          "text": [
            "5566\n",
            "None\n"
          ],
          "name": "stdout"
        }
      ]
    },
    {
      "cell_type": "code",
      "metadata": {
        "id": "lFipVb1m9wYu",
        "colab_type": "code",
        "colab": {}
      },
      "source": [
        "def absolute(x):\n",
        "    \"\"\"\n",
        "    Returns the absolute value of x.\n",
        "    \"\"\"\n",
        "    if x < 0:\n",
        "        abs_x = -x\n",
        "        print(\"{}的絕對值是{}\".format(x, abs_x))\n",
        "        return abs_x\n",
        "    else:\n",
        "        print(\"{}的絕對值是{}\".format(x, x))\n",
        "        return x"
      ],
      "execution_count": 0,
      "outputs": []
    },
    {
      "cell_type": "code",
      "metadata": {
        "id": "2bHKGteW9wbm",
        "colab_type": "code",
        "colab": {
          "base_uri": "https://localhost:8080/",
          "height": 51
        },
        "outputId": "9c7cc086-8282-47c7-fc24-5d3404100191"
      },
      "source": [
        "positive_56 = absolute(-5566)\n",
        "print(positive_56)"
      ],
      "execution_count": 28,
      "outputs": [
        {
          "output_type": "stream",
          "text": [
            "-5566的絕對值是5566\n",
            "5566\n"
          ],
          "name": "stdout"
        }
      ]
    },
    {
      "cell_type": "code",
      "metadata": {
        "id": "mMwqjIyy9Zax",
        "colab_type": "code",
        "colab": {}
      },
      "source": [
        "def get_fahrenheit(x):\n",
        "    \"\"\"\n",
        "    Transform a Celsius degree into  Farenheit scale\n",
        "    \"\"\"\n",
        "    fah = x * 9/5 + 32\n",
        "    return fah"
      ],
      "execution_count": 0,
      "outputs": []
    },
    {
      "cell_type": "code",
      "metadata": {
        "id": "28OCZtPV-ATH",
        "colab_type": "code",
        "colab": {
          "base_uri": "https://localhost:8080/",
          "height": 34
        },
        "outputId": "949a857b-8a92-4001-cfa1-af0b6cfd3663"
      },
      "source": [
        "get_fahrenheit(32)"
      ],
      "execution_count": 30,
      "outputs": [
        {
          "output_type": "execute_result",
          "data": {
            "text/plain": [
              "89.6"
            ]
          },
          "metadata": {
            "tags": []
          },
          "execution_count": 30
        }
      ]
    },
    {
      "cell_type": "code",
      "metadata": {
        "id": "ZlMRv38a-AWP",
        "colab_type": "code",
        "colab": {}
      },
      "source": [
        "def get_bmi(height, weight):\n",
        "    \"\"\"\n",
        "    Calculate BMI based on height and weight\n",
        "    \"\"\"\n",
        "    height = height / 100\n",
        "    bmi = weight / height**2\n",
        "    return bmi"
      ],
      "execution_count": 0,
      "outputs": []
    },
    {
      "cell_type": "code",
      "metadata": {
        "id": "3S9nXIqx-AYv",
        "colab_type": "code",
        "colab": {
          "base_uri": "https://localhost:8080/",
          "height": 34
        },
        "outputId": "12f36d5a-b76b-471c-d20b-b37705049efc"
      },
      "source": [
        "get_bmi(198, 129)"
      ],
      "execution_count": 32,
      "outputs": [
        {
          "output_type": "execute_result",
          "data": {
            "text/plain": [
              "32.90480563207836"
            ]
          },
          "metadata": {
            "tags": []
          },
          "execution_count": 32
        }
      ]
    },
    {
      "cell_type": "code",
      "metadata": {
        "id": "obLsSClg-AbO",
        "colab_type": "code",
        "colab": {
          "base_uri": "https://localhost:8080/",
          "height": 34
        },
        "outputId": "b3f0fe68-6c33-4cf7-ffe9-128cbaf45613"
      },
      "source": [
        "get_bmi(216, 147)"
      ],
      "execution_count": 33,
      "outputs": [
        {
          "output_type": "execute_result",
          "data": {
            "text/plain": [
              "31.507201646090532"
            ]
          },
          "metadata": {
            "tags": []
          },
          "execution_count": 33
        }
      ]
    },
    {
      "cell_type": "code",
      "metadata": {
        "id": "ziZ_FCYJ-Ad_",
        "colab_type": "code",
        "colab": {}
      },
      "source": [
        "def is_prime(x):\n",
        "    \"\"\"\n",
        "    Returns True if x is a prime, or returns False\n",
        "    \"\"\"\n",
        "    divisors = []\n",
        "    for i in range(1, x+1):\n",
        "        if x % i == 0:\n",
        "            divisors.append(i)\n",
        "    n_divisors = len(divisors)\n",
        "    return n_divisors == 2"
      ],
      "execution_count": 0,
      "outputs": []
    },
    {
      "cell_type": "code",
      "metadata": {
        "id": "0EXesLsH-Iaz",
        "colab_type": "code",
        "colab": {
          "base_uri": "https://localhost:8080/",
          "height": 34
        },
        "outputId": "3c232148-bf37-488c-f5a9-d5b682f60353"
      },
      "source": [
        "is_prime(1)"
      ],
      "execution_count": 35,
      "outputs": [
        {
          "output_type": "execute_result",
          "data": {
            "text/plain": [
              "False"
            ]
          },
          "metadata": {
            "tags": []
          },
          "execution_count": 35
        }
      ]
    },
    {
      "cell_type": "code",
      "metadata": {
        "id": "6j8D2gYF-Agf",
        "colab_type": "code",
        "colab": {
          "base_uri": "https://localhost:8080/",
          "height": 34
        },
        "outputId": "b4634842-f9b9-4fc3-a605-abf7cd9d1d7b"
      },
      "source": [
        "is_prime(2)"
      ],
      "execution_count": 36,
      "outputs": [
        {
          "output_type": "execute_result",
          "data": {
            "text/plain": [
              "True"
            ]
          },
          "metadata": {
            "tags": []
          },
          "execution_count": 36
        }
      ]
    },
    {
      "cell_type": "code",
      "metadata": {
        "id": "gbmsFZSh9ZeJ",
        "colab_type": "code",
        "colab": {
          "base_uri": "https://localhost:8080/",
          "height": 34
        },
        "outputId": "af7f2c83-0f20-4a50-d9b3-124e480a68ce"
      },
      "source": [
        "is_prime(8)"
      ],
      "execution_count": 37,
      "outputs": [
        {
          "output_type": "execute_result",
          "data": {
            "text/plain": [
              "False"
            ]
          },
          "metadata": {
            "tags": []
          },
          "execution_count": 37
        }
      ]
    }
  ]
}