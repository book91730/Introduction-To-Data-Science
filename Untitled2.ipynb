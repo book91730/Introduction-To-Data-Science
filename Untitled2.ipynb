{
  "nbformat": 4,
  "nbformat_minor": 0,
  "metadata": {
    "colab": {
      "name": "Untitled2.ipynb",
      "provenance": []
    },
    "kernelspec": {
      "name": "python3",
      "display_name": "Python 3"
    }
  },
  "cells": [
    {
      "cell_type": "code",
      "metadata": {
        "id": "Nl_q_Ni4zK-x",
        "colab_type": "code",
        "colab": {
          "base_uri": "https://localhost:8080/",
          "height": 34
        },
        "outputId": "e7ae811a-9dd0-484a-d53e-2371b134d9a6"
      },
      "source": [
        "member_ages = [18, 20, 22, 25, 35, 42, 65]\n",
        "# 資料篩選(begin)\n",
        "list(filter(lambda x: x <= 25 and x >= 18, member_ages))"
      ],
      "execution_count": 2,
      "outputs": [
        {
          "output_type": "execute_result",
          "data": {
            "text/plain": [
              "[18, 20, 22, 25]"
            ]
          },
          "metadata": {
            "tags": []
          },
          "execution_count": 2
        }
      ]
    },
    {
      "cell_type": "code",
      "metadata": {
        "id": "14zE2L1E0WpI",
        "colab_type": "code",
        "colab": {
          "base_uri": "https://localhost:8080/",
          "height": 51
        },
        "outputId": "8e593712-3e71-41de-a1ac-f79d6c8cd115"
      },
      "source": [
        "if True:\n",
        "    print(5566)\n",
        "print(7788)"
      ],
      "execution_count": 8,
      "outputs": [
        {
          "output_type": "stream",
          "text": [
            "5566\n",
            "7788\n"
          ],
          "name": "stdout"
        }
      ]
    },
    {
      "cell_type": "code",
      "metadata": {
        "id": "waB6xV_W0XBn",
        "colab_type": "code",
        "colab": {
          "base_uri": "https://localhost:8080/",
          "height": 34
        },
        "outputId": "8eb678ff-2edb-424c-c0d6-fe5bb1593be7"
      },
      "source": [
        "if False:\n",
        "    print(5566)\n",
        "print(7788)"
      ],
      "execution_count": 9,
      "outputs": [
        {
          "output_type": "stream",
          "text": [
            "7788\n"
          ],
          "name": "stdout"
        }
      ]
    },
    {
      "cell_type": "code",
      "metadata": {
        "id": "Q9UIWSz90XGf",
        "colab_type": "code",
        "colab": {
          "base_uri": "https://localhost:8080/",
          "height": 68
        },
        "outputId": "1cc30810-e5cf-4307-9924-480a7862a66d"
      },
      "source": [
        "movie_title = input('請輸入電影的名稱:')\n",
        "movie_rating = input('請輸入電影的評等:')\n",
        "movie_rating = float(movie_rating)\n",
        "\n",
        "if movie_rating > 7:\n",
        "    print(\"{}的評分為 {} 分值得去看!\".format(movie_title, movie_rating))\n",
        "if movie_rating <= 7:\n",
        "    print(\"{}的評分為 {} 分不值得去看，浪費時間!\".format(movie_title, movie_rating))"
      ],
      "execution_count": 14,
      "outputs": [
        {
          "output_type": "stream",
          "text": [
            "請輸入電影的名稱:巨齒鯊 \n",
            "請輸入電影的評等:2.2\n",
            "巨齒鯊 的評分為 2.2 分不值得去看，浪費時間!\n"
          ],
          "name": "stdout"
        }
      ]
    },
    {
      "cell_type": "code",
      "metadata": {
        "id": "tBlJ8Pe50XKX",
        "colab_type": "code",
        "colab": {
          "base_uri": "https://localhost:8080/",
          "height": 68
        },
        "outputId": "06176d36-699e-49fd-df7d-b77c502876f5"
      },
      "source": [
        "monthly_income = int(input(\"請輸入月薪\"))\n",
        "saving_account = int(input(\"請輸入存款\"))\n",
        "\n",
        "if monthly_income > 40000:\n",
        "    ans = \"發放信用卡\"\n",
        "if saving_account >= 500000:\n",
        "    ans = \"發放信用卡\" \n",
        "print(ans)"
      ],
      "execution_count": 26,
      "outputs": [
        {
          "output_type": "stream",
          "text": [
            "請輸入月薪99999\n",
            "請輸入存款99999\n",
            "發放信用卡\n"
          ],
          "name": "stdout"
        }
      ]
    },
    {
      "cell_type": "code",
      "metadata": {
        "id": "pxYjaTwM0XVX",
        "colab_type": "code",
        "colab": {
          "base_uri": "https://localhost:8080/",
          "height": 51
        },
        "outputId": "cd4c256e-f939-4a33-eb21-6099c3be36b0"
      },
      "source": [
        "user_int = input(\"請輸入一個正整數\")\n",
        "user_int = int(user_int)\n",
        "if user_int % 2 == 0:\n",
        "    ans = \"偶數\"\n",
        "if user_int % 2 == 1:\n",
        "    ans = \"奇數\"\n",
        "print(ans)"
      ],
      "execution_count": 36,
      "outputs": [
        {
          "output_type": "stream",
          "text": [
            "請輸入一個正整數999\n",
            "奇數\n"
          ],
          "name": "stdout"
        }
      ]
    },
    {
      "cell_type": "code",
      "metadata": {
        "id": "XG7TAayI0Xgf",
        "colab_type": "code",
        "colab": {
          "base_uri": "https://localhost:8080/",
          "height": 51
        },
        "outputId": "e9504fff-e990-41f3-80e2-b2375c2467ed"
      },
      "source": [
        "id_last_digit = input(\"請輸入您身分證字號的尾數\")\n",
        "id_last_digit = int(id_last_digit)\n",
        "if id_last_digit % 2 == 0:\n",
        "    ans = \"星期二四六日領\"\n",
        "if id_last_digit % 2 == 1:\n",
        "    ans = \"星期一三五日領\"\n",
        "print(ans)"
      ],
      "execution_count": 38,
      "outputs": [
        {
          "output_type": "stream",
          "text": [
            "請輸入您身分證字號的尾數7\n",
            "星期一三五日領\n"
          ],
          "name": "stdout"
        }
      ]
    },
    {
      "cell_type": "code",
      "metadata": {
        "id": "ojuVB5Tl0Xk_",
        "colab_type": "code",
        "colab": {
          "base_uri": "https://localhost:8080/",
          "height": 51
        },
        "outputId": "a21a24e6-b317-461b-82e0-a1a32f13df0d"
      },
      "source": [
        "id_number = input(\"請輸入身份證字號\")\n",
        "id_last_digit = id_number[-1]\n",
        "id_last_digit = int(id_last_digit)\n",
        "if id_last_digit % 2 == 0:\n",
        "    ans = \"星期二四六日領\"\n",
        "if id_last_digit % 2 == 1:\n",
        "    ans = \"星期一三五日領\"\n",
        "print(ans)"
      ],
      "execution_count": 39,
      "outputs": [
        {
          "output_type": "stream",
          "text": [
            "請輸入身份證字號A107260095\n",
            "星期一三五日領\n"
          ],
          "name": "stdout"
        }
      ]
    },
    {
      "cell_type": "code",
      "metadata": {
        "id": "xLrc_1re0Xo_",
        "colab_type": "code",
        "colab": {
          "base_uri": "https://localhost:8080/",
          "height": 68
        },
        "outputId": "d73246c7-ef16-4a39-ea56-8d2043221159"
      },
      "source": [
        "height = float(input(\"請輸入身高(M)\"))\n",
        "weight = float(input(\"請輸入體重(KG)\"))\n",
        "bmi = weight / (height*0.01)**2\n",
        "if bmi > 30:\n",
        "    label= \"Obese\"\n",
        "elif bmi > 25:\n",
        "    label = \"Overweight\"\n",
        "elif bmi > 18.5:\n",
        "    label = \"Normal weight\"\n",
        "elif bmi <= 18.5:\n",
        "    label = \"Underweight\"\n",
        "print(label)\n"
      ],
      "execution_count": 50,
      "outputs": [
        {
          "output_type": "stream",
          "text": [
            "請輸入身高(M)172\n",
            "請輸入體重(KG)58\n",
            "Normal weight\n"
          ],
          "name": "stdout"
        }
      ]
    }
  ]
}