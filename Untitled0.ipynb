{
  "nbformat": 4,
  "nbformat_minor": 0,
  "metadata": {
    "colab": {
      "name": "Untitled0.ipynb",
      "provenance": []
    },
    "kernelspec": {
      "name": "python3",
      "display_name": "Python 3"
    }
  },
  "cells": [
    {
      "cell_type": "code",
      "metadata": {
        "id": "0YoVOhSedEAq",
        "colab_type": "code",
        "colab": {}
      },
      "source": [
        "# variable vs. value: 1-on-1\n",
        "lucky_num_0 = 7\n",
        "lucky_num_1 = 24\n",
        "lucky_num_2 = 5566"
      ],
      "execution_count": 0,
      "outputs": []
    },
    {
      "cell_type": "code",
      "metadata": {
        "id": "F-ZbYc0fdP4n",
        "colab_type": "code",
        "colab": {}
      },
      "source": [
        "# variable vs. values: 1-on-multiple\n",
        "lucky_numbers = [7, 24, 5566]"
      ],
      "execution_count": 0,
      "outputs": []
    },
    {
      "cell_type": "code",
      "metadata": {
        "id": "QGkoIBjCdP8d",
        "colab_type": "code",
        "colab": {}
      },
      "source": [
        "# variable vs. value: 1-on-1\n",
        "sat = \"Saturday\"\n",
        "sun = \"Sunday\""
      ],
      "execution_count": 0,
      "outputs": []
    },
    {
      "cell_type": "code",
      "metadata": {
        "id": "J6wWKWFxdP_d",
        "colab_type": "code",
        "colab": {}
      },
      "source": [
        "# variable vs. values: 1-on-multiple\n",
        "weekend = [\"Saturday\", \"Sunday\"]\n",
        "weekdays = [\"Monday\", \"Tuesday\", \"Wednesday\", \"Thursday\", \"Friday\"]"
      ],
      "execution_count": 0,
      "outputs": []
    },
    {
      "cell_type": "code",
      "metadata": {
        "id": "4z9iaY2ldQDF",
        "colab_type": "code",
        "colab": {
          "base_uri": "https://localhost:8080/",
          "height": 34
        },
        "outputId": "1a7c49fb-7960-4ba3-eaee-6e8a08ef45f6"
      },
      "source": [
        "print(type(lucky_numbers))"
      ],
      "execution_count": 6,
      "outputs": [
        {
          "output_type": "stream",
          "text": [
            "<class 'list'>\n"
          ],
          "name": "stdout"
        }
      ]
    },
    {
      "cell_type": "code",
      "metadata": {
        "id": "kajt7W5CdQGs",
        "colab_type": "code",
        "colab": {
          "base_uri": "https://localhost:8080/",
          "height": 34
        },
        "outputId": "00905a89-e63e-4cc9-d272-1a57066ad289"
      },
      "source": [
        "print(type(weekend))"
      ],
      "execution_count": 7,
      "outputs": [
        {
          "output_type": "stream",
          "text": [
            "<class 'list'>\n"
          ],
          "name": "stdout"
        }
      ]
    },
    {
      "cell_type": "code",
      "metadata": {
        "id": "JmMeBogadQKM",
        "colab_type": "code",
        "colab": {
          "base_uri": "https://localhost:8080/",
          "height": 34
        },
        "outputId": "3a4148d6-3a2d-4284-acca-cf3df56b4588"
      },
      "source": [
        "print(type(weekdays))"
      ],
      "execution_count": 8,
      "outputs": [
        {
          "output_type": "stream",
          "text": [
            "<class 'list'>\n"
          ],
          "name": "stdout"
        }
      ]
    },
    {
      "cell_type": "code",
      "metadata": {
        "id": "8BJhVeYSdQNd",
        "colab_type": "code",
        "colab": {
          "base_uri": "https://localhost:8080/",
          "height": 68
        },
        "outputId": "ccb401b4-f957-414f-9f47-9661bb4f56ca"
      },
      "source": [
        "print(len(lucky_numbers))\n",
        "print(len(weekend))\n",
        "print(len(weekdays))"
      ],
      "execution_count": 9,
      "outputs": [
        {
          "output_type": "stream",
          "text": [
            "3\n",
            "2\n",
            "5\n"
          ],
          "name": "stdout"
        }
      ]
    },
    {
      "cell_type": "code",
      "metadata": {
        "id": "2sp7VYMMdQRN",
        "colab_type": "code",
        "colab": {
          "base_uri": "https://localhost:8080/",
          "height": 34
        },
        "outputId": "77d92772-e348-4672-dbd5-a444f54e970d"
      },
      "source": [
        "my_fav_weekday = \"Friday\"\n",
        "print(\"My favorite weekday is {}.\".format(my_fav_weekday))"
      ],
      "execution_count": 10,
      "outputs": [
        {
          "output_type": "stream",
          "text": [
            "My favorite weekday is Friday.\n"
          ],
          "name": "stdout"
        }
      ]
    },
    {
      "cell_type": "code",
      "metadata": {
        "id": "Kz9lVZlRdQUl",
        "colab_type": "code",
        "colab": {}
      },
      "source": [
        "# why not: format(\"My favorite weekday is {}.\", my_fav_weekday) ?"
      ],
      "execution_count": 0,
      "outputs": []
    },
    {
      "cell_type": "code",
      "metadata": {
        "id": "hDT_aKA4dQYM",
        "colab_type": "code",
        "colab": {
          "base_uri": "https://localhost:8080/",
          "height": 165
        },
        "outputId": "df368a20-6e25-45f9-e319-c0e2b557f1ba"
      },
      "source": [
        "help(append)"
      ],
      "execution_count": 12,
      "outputs": [
        {
          "output_type": "error",
          "ename": "NameError",
          "evalue": "ignored",
          "traceback": [
            "\u001b[0;31m---------------------------------------------------------------------------\u001b[0m",
            "\u001b[0;31mNameError\u001b[0m                                 Traceback (most recent call last)",
            "\u001b[0;32m<ipython-input-12-0b77908b9346>\u001b[0m in \u001b[0;36m<module>\u001b[0;34m()\u001b[0m\n\u001b[0;32m----> 1\u001b[0;31m \u001b[0mhelp\u001b[0m\u001b[0;34m(\u001b[0m\u001b[0mappend\u001b[0m\u001b[0;34m)\u001b[0m\u001b[0;34m\u001b[0m\u001b[0;34m\u001b[0m\u001b[0m\n\u001b[0m",
            "\u001b[0;31mNameError\u001b[0m: name 'append' is not defined"
          ]
        }
      ]
    },
    {
      "cell_type": "code",
      "metadata": {
        "id": "c8G0O5ApdQbc",
        "colab_type": "code",
        "colab": {
          "base_uri": "https://localhost:8080/",
          "height": 51
        },
        "outputId": "9382fa01-c3a6-4ec9-e752-0cc7bd7e9a22"
      },
      "source": [
        "print(lucky_numbers)\n",
        "lucky_numbers.append(87)\n",
        "print(lucky_numbers)"
      ],
      "execution_count": 13,
      "outputs": [
        {
          "output_type": "stream",
          "text": [
            "[7, 24, 5566]\n",
            "[7, 24, 5566, 87]\n"
          ],
          "name": "stdout"
        }
      ]
    },
    {
      "cell_type": "code",
      "metadata": {
        "id": "q4QzBKTmdQe9",
        "colab_type": "code",
        "colab": {
          "base_uri": "https://localhost:8080/",
          "height": 51
        },
        "outputId": "08f3c379-14cd-44bc-ba80-9420a79fd5a4"
      },
      "source": [
        "print(lucky_numbers)\n",
        "lucky_numbers.pop()\n",
        "print(lucky_numbers)"
      ],
      "execution_count": 14,
      "outputs": [
        {
          "output_type": "stream",
          "text": [
            "[7, 24, 5566, 87]\n",
            "[7, 24, 5566]\n"
          ],
          "name": "stdout"
        }
      ]
    },
    {
      "cell_type": "code",
      "metadata": {
        "id": "XGY7xSENdQiF",
        "colab_type": "code",
        "colab": {
          "base_uri": "https://localhost:8080/",
          "height": 51
        },
        "outputId": "1ec527cb-a87b-4ef7-f840-7a9178fb0424"
      },
      "source": [
        "my_fav_group = lucky_numbers.pop()\n",
        "print(lucky_numbers)\n",
        "print(my_fav_group)"
      ],
      "execution_count": 15,
      "outputs": [
        {
          "output_type": "stream",
          "text": [
            "[7, 24]\n",
            "5566\n"
          ],
          "name": "stdout"
        }
      ]
    },
    {
      "cell_type": "code",
      "metadata": {
        "id": "IUtGrctUdQll",
        "colab_type": "code",
        "colab": {
          "base_uri": "https://localhost:8080/",
          "height": 51
        },
        "outputId": "ba8d06fc-b405-4e09-bd04-a70e477fa338"
      },
      "source": [
        "print(weekdays)\n",
        "print(weekend)"
      ],
      "execution_count": 16,
      "outputs": [
        {
          "output_type": "stream",
          "text": [
            "['Monday', 'Tuesday', 'Wednesday', 'Thursday', 'Friday']\n",
            "['Saturday', 'Sunday']\n"
          ],
          "name": "stdout"
        }
      ]
    },
    {
      "cell_type": "code",
      "metadata": {
        "id": "Eqb189fDdQo1",
        "colab_type": "code",
        "colab": {
          "base_uri": "https://localhost:8080/",
          "height": 34
        },
        "outputId": "d9eeac2c-d11c-4ecf-d29a-a4aa797ead03"
      },
      "source": [
        "weekdays + weekend"
      ],
      "execution_count": 17,
      "outputs": [
        {
          "output_type": "execute_result",
          "data": {
            "text/plain": [
              "['Monday', 'Tuesday', 'Wednesday', 'Thursday', 'Friday', 'Saturday', 'Sunday']"
            ]
          },
          "metadata": {
            "tags": []
          },
          "execution_count": 17
        }
      ]
    },
    {
      "cell_type": "code",
      "metadata": {
        "id": "QIC0NIiddQr0",
        "colab_type": "code",
        "colab": {
          "base_uri": "https://localhost:8080/",
          "height": 34
        },
        "outputId": "ce53716b-0d2a-49b4-b230-c75ea6cd81b7"
      },
      "source": [
        "weekend + weekdays"
      ],
      "execution_count": 18,
      "outputs": [
        {
          "output_type": "execute_result",
          "data": {
            "text/plain": [
              "['Saturday', 'Sunday', 'Monday', 'Tuesday', 'Wednesday', 'Thursday', 'Friday']"
            ]
          },
          "metadata": {
            "tags": []
          },
          "execution_count": 18
        }
      ]
    },
    {
      "cell_type": "code",
      "metadata": {
        "id": "ZdeMYx4idQu1",
        "colab_type": "code",
        "colab": {
          "base_uri": "https://localhost:8080/",
          "height": 102
        },
        "outputId": "3efa2928-13b2-4bef-fd56-14e5be8de0d9"
      },
      "source": [
        "print(weekdays[0])\n",
        "print(weekdays[1])\n",
        "print(weekdays[2])\n",
        "print(weekdays[3])\n",
        "print(weekdays[4])"
      ],
      "execution_count": 19,
      "outputs": [
        {
          "output_type": "stream",
          "text": [
            "Monday\n",
            "Tuesday\n",
            "Wednesday\n",
            "Thursday\n",
            "Friday\n"
          ],
          "name": "stdout"
        }
      ]
    },
    {
      "cell_type": "code",
      "metadata": {
        "id": "ZfuSNTrHdQyN",
        "colab_type": "code",
        "colab": {
          "base_uri": "https://localhost:8080/",
          "height": 102
        },
        "outputId": "a55abeee-1b71-4e0c-af9f-13282273c708"
      },
      "source": [
        "i = 0\n",
        "while i < 5:\n",
        "    print(weekdays[i])\n",
        "    i += 1"
      ],
      "execution_count": 20,
      "outputs": [
        {
          "output_type": "stream",
          "text": [
            "Monday\n",
            "Tuesday\n",
            "Wednesday\n",
            "Thursday\n",
            "Friday\n"
          ],
          "name": "stdout"
        }
      ]
    },
    {
      "cell_type": "code",
      "metadata": {
        "id": "HcNv5tdgdtL2",
        "colab_type": "code",
        "colab": {
          "base_uri": "https://localhost:8080/",
          "height": 51
        },
        "outputId": "66b69af9-7b0e-419f-cd3a-52fd77677901"
      },
      "source": [
        "i = 0\n",
        "while i < 2:\n",
        "    print(weekend[i])\n",
        "    i += 1"
      ],
      "execution_count": 21,
      "outputs": [
        {
          "output_type": "stream",
          "text": [
            "Saturday\n",
            "Sunday\n"
          ],
          "name": "stdout"
        }
      ]
    },
    {
      "cell_type": "code",
      "metadata": {
        "id": "JnpBpo_NdtO8",
        "colab_type": "code",
        "colab": {
          "base_uri": "https://localhost:8080/",
          "height": 51
        },
        "outputId": "b3502380-c3bc-41c7-d229-48ad0690da12"
      },
      "source": [
        "i = 0\n",
        "while i < len(weekend):\n",
        "    print(weekend[i])\n",
        "    i += 1"
      ],
      "execution_count": 22,
      "outputs": [
        {
          "output_type": "stream",
          "text": [
            "Saturday\n",
            "Sunday\n"
          ],
          "name": "stdout"
        }
      ]
    },
    {
      "cell_type": "code",
      "metadata": {
        "id": "pmkATSk8dtS0",
        "colab_type": "code",
        "colab": {
          "base_uri": "https://localhost:8080/",
          "height": 102
        },
        "outputId": "d8ad9b0e-bdd8-4dda-d51f-41d5244ce1af"
      },
      "source": [
        "i = 0\n",
        "while i < len(weekdays):\n",
        "    print(weekdays[i])\n",
        "    i += 1"
      ],
      "execution_count": 23,
      "outputs": [
        {
          "output_type": "stream",
          "text": [
            "Monday\n",
            "Tuesday\n",
            "Wednesday\n",
            "Thursday\n",
            "Friday\n"
          ],
          "name": "stdout"
        }
      ]
    },
    {
      "cell_type": "code",
      "metadata": {
        "id": "Hq-zwnkFdtV0",
        "colab_type": "code",
        "colab": {
          "base_uri": "https://localhost:8080/",
          "height": 102
        },
        "outputId": "db58fae8-d118-4b28-d293-6c9b3cd945d1"
      },
      "source": [
        "print(weekdays[-1])\n",
        "print(weekdays[-2])\n",
        "print(weekdays[-3])\n",
        "print(weekdays[-4])\n",
        "print(weekdays[-5])"
      ],
      "execution_count": 24,
      "outputs": [
        {
          "output_type": "stream",
          "text": [
            "Friday\n",
            "Thursday\n",
            "Wednesday\n",
            "Tuesday\n",
            "Monday\n"
          ],
          "name": "stdout"
        }
      ]
    },
    {
      "cell_type": "code",
      "metadata": {
        "id": "L_QDze8fdtYk",
        "colab_type": "code",
        "colab": {
          "base_uri": "https://localhost:8080/",
          "height": 102
        },
        "outputId": "4e787150-e285-4415-8767-f07c9dbe5a6b"
      },
      "source": [
        "i = -1\n",
        "while i >= -5:\n",
        "    print(weekdays[i])\n",
        "    i -= 1"
      ],
      "execution_count": 25,
      "outputs": [
        {
          "output_type": "stream",
          "text": [
            "Friday\n",
            "Thursday\n",
            "Wednesday\n",
            "Tuesday\n",
            "Monday\n"
          ],
          "name": "stdout"
        }
      ]
    },
    {
      "cell_type": "code",
      "metadata": {
        "id": "6vPqBoYrdQ1d",
        "colab_type": "code",
        "colab": {
          "base_uri": "https://localhost:8080/",
          "height": 34
        },
        "outputId": "b6a76d45-18f2-4ebd-8a35-10e06f072961"
      },
      "source": [
        "weekdays"
      ],
      "execution_count": 26,
      "outputs": [
        {
          "output_type": "execute_result",
          "data": {
            "text/plain": [
              "['Monday', 'Tuesday', 'Wednesday', 'Thursday', 'Friday']"
            ]
          },
          "metadata": {
            "tags": []
          },
          "execution_count": 26
        }
      ]
    },
    {
      "cell_type": "code",
      "metadata": {
        "id": "o8g9BiZWdQ5D",
        "colab_type": "code",
        "colab": {
          "base_uri": "https://localhost:8080/",
          "height": 34
        },
        "outputId": "3c784256-bd5f-4811-f91d-a6f1f81535f0"
      },
      "source": [
        "weekdays[0:3:1]"
      ],
      "execution_count": 27,
      "outputs": [
        {
          "output_type": "execute_result",
          "data": {
            "text/plain": [
              "['Monday', 'Tuesday', 'Wednesday']"
            ]
          },
          "metadata": {
            "tags": []
          },
          "execution_count": 27
        }
      ]
    },
    {
      "cell_type": "code",
      "metadata": {
        "id": "6WZkkS2Vd-Pu",
        "colab_type": "code",
        "colab": {
          "base_uri": "https://localhost:8080/",
          "height": 34
        },
        "outputId": "6045bb7f-344d-40f6-fcdd-6ab822d9297e"
      },
      "source": [
        "weekdays[0:5:2]"
      ],
      "execution_count": 28,
      "outputs": [
        {
          "output_type": "execute_result",
          "data": {
            "text/plain": [
              "['Monday', 'Wednesday', 'Friday']"
            ]
          },
          "metadata": {
            "tags": []
          },
          "execution_count": 28
        }
      ]
    },
    {
      "cell_type": "code",
      "metadata": {
        "id": "oYXzwwgpd-VO",
        "colab_type": "code",
        "colab": {
          "base_uri": "https://localhost:8080/",
          "height": 34
        },
        "outputId": "9d1a3b74-39a6-4a28-a3f6-9240903110af"
      },
      "source": [
        "weekdays[::2]"
      ],
      "execution_count": 29,
      "outputs": [
        {
          "output_type": "execute_result",
          "data": {
            "text/plain": [
              "['Monday', 'Wednesday', 'Friday']"
            ]
          },
          "metadata": {
            "tags": []
          },
          "execution_count": 29
        }
      ]
    },
    {
      "cell_type": "code",
      "metadata": {
        "id": "Ha5na_FEd-Z2",
        "colab_type": "code",
        "colab": {}
      },
      "source": [
        "import requests\n",
        "from bs4 import BeautifulSoup\n",
        "\n",
        "response = requests.get('https://www.imdb.com/title/tt4154796/')\n",
        "soup = BeautifulSoup(response.text)"
      ],
      "execution_count": 0,
      "outputs": []
    },
    {
      "cell_type": "code",
      "metadata": {
        "id": "hx9ZVQvSd-ge",
        "colab_type": "code",
        "colab": {
          "base_uri": "https://localhost:8080/",
          "height": 34
        },
        "outputId": "9d19cc96-53b1-4217-fb8a-ea68f969dc4e"
      },
      "source": [
        "cast_list_a = soup.select(\"#titleCast .loadlate\")\n",
        "print(len(cast_list_a))"
      ],
      "execution_count": 31,
      "outputs": [
        {
          "output_type": "stream",
          "text": [
            "15\n"
          ],
          "name": "stdout"
        }
      ]
    },
    {
      "cell_type": "code",
      "metadata": {
        "id": "cP920d9Bd-mJ",
        "colab_type": "code",
        "colab": {
          "base_uri": "https://localhost:8080/",
          "height": 68
        },
        "outputId": "45bacb4d-1db9-437d-c1b0-efa304454e68"
      },
      "source": [
        "cast_list = []\n",
        "print(cast_list)\n",
        "print(type(cast_list))\n",
        "print(len(cast_list))"
      ],
      "execution_count": 32,
      "outputs": [
        {
          "output_type": "stream",
          "text": [
            "[]\n",
            "<class 'list'>\n",
            "0\n"
          ],
          "name": "stdout"
        }
      ]
    },
    {
      "cell_type": "code",
      "metadata": {
        "id": "X53xYAXAd-rY",
        "colab_type": "code",
        "colab": {
          "base_uri": "https://localhost:8080/",
          "height": 34
        },
        "outputId": "a16c3cdc-4747-416c-bbd0-d73109d22f18"
      },
      "source": [
        "actor_0 = cast_list_a[0].get('alt').strip()\n",
        "cast_list.append(actor_0)\n",
        "print(cast_list)"
      ],
      "execution_count": 33,
      "outputs": [
        {
          "output_type": "stream",
          "text": [
            "['Robert Downey Jr.']\n"
          ],
          "name": "stdout"
        }
      ]
    },
    {
      "cell_type": "code",
      "metadata": {
        "id": "UG1ufuD3d-wi",
        "colab_type": "code",
        "colab": {
          "base_uri": "https://localhost:8080/",
          "height": 34
        },
        "outputId": "256443b4-9ee3-4ec0-c335-c4a17d7d42ec"
      },
      "source": [
        "actor_1 = cast_list_a[1].get('alt').strip()\n",
        "cast_list.append(actor_1)\n",
        "print(cast_list)"
      ],
      "execution_count": 34,
      "outputs": [
        {
          "output_type": "stream",
          "text": [
            "['Robert Downey Jr.', 'Chris Evans']\n"
          ],
          "name": "stdout"
        }
      ]
    },
    {
      "cell_type": "code",
      "metadata": {
        "id": "mdvYSoREd-2W",
        "colab_type": "code",
        "colab": {
          "base_uri": "https://localhost:8080/",
          "height": 68
        },
        "outputId": "5c342173-96f7-415c-dfe6-ff5dc4a1918e"
      },
      "source": [
        "cast = []\n",
        "print(cast)\n",
        "print(type(cast))\n",
        "print(len(cast))"
      ],
      "execution_count": 35,
      "outputs": [
        {
          "output_type": "stream",
          "text": [
            "[]\n",
            "<class 'list'>\n",
            "0\n"
          ],
          "name": "stdout"
        }
      ]
    },
    {
      "cell_type": "code",
      "metadata": {
        "id": "mAXoKXffd-7h",
        "colab_type": "code",
        "colab": {}
      },
      "source": [
        "i = 0\n",
        "while i < len(cast_list_a):\n",
        "    actor = cast_list_a[i].get('alt').strip()\n",
        "    cast.append(actor)\n",
        "    i += 1"
      ],
      "execution_count": 0,
      "outputs": []
    },
    {
      "cell_type": "code",
      "metadata": {
        "id": "dHrEDeoOd-_2",
        "colab_type": "code",
        "colab": {
          "base_uri": "https://localhost:8080/",
          "height": 54
        },
        "outputId": "9bf638fa-9869-4fc3-c3ed-b5921294a5d9"
      },
      "source": [
        "print(cast)"
      ],
      "execution_count": 37,
      "outputs": [
        {
          "output_type": "stream",
          "text": [
            "['Robert Downey Jr.', 'Chris Evans', 'Mark Ruffalo', 'Chris Hemsworth', 'Scarlett Johansson', 'Jeremy Renner', 'Don Cheadle', 'Paul Rudd', 'Benedict Cumberbatch', 'Chadwick Boseman', 'Brie Larson', 'Tom Holland', 'Karen Gillan', 'Zoe Saldana', 'Evangeline Lilly']\n"
          ],
          "name": "stdout"
        }
      ]
    },
    {
      "cell_type": "code",
      "metadata": {
        "id": "EBakiaM_eNKA",
        "colab_type": "code",
        "colab": {}
      },
      "source": [
        "#cast = ['Robert Downey Jr.', 'Chris Evans', 'Mark Ruffalo', 'Chris Hemsworth', 'Scarlett Johansson', 'Jeremy Renner', 'Don Cheadle', 'Paul Rudd', 'Benedict Cumberbatch', 'Chadwick Boseman', 'Brie Larson', 'Tom Holland', 'Karen Gillan', 'Zoe Saldana', 'Evangeline Lilly']"
      ],
      "execution_count": 0,
      "outputs": []
    },
    {
      "cell_type": "code",
      "metadata": {
        "id": "At_D-y1YeNNe",
        "colab_type": "code",
        "colab": {
          "base_uri": "https://localhost:8080/",
          "height": 51
        },
        "outputId": "5b4e8cff-a26e-486e-e73a-5b88bc881fd1"
      },
      "source": [
        "print(cast[8])\n",
        "print(cast[-7])"
      ],
      "execution_count": 40,
      "outputs": [
        {
          "output_type": "stream",
          "text": [
            "Benedict Cumberbatch\n",
            "Benedict Cumberbatch\n"
          ],
          "name": "stdout"
        }
      ]
    },
    {
      "cell_type": "code",
      "metadata": {
        "id": "i-iMQtMCeNQy",
        "colab_type": "code",
        "colab": {
          "base_uri": "https://localhost:8080/",
          "height": 51
        },
        "outputId": "88bbf65f-68d4-4c91-e334-4080f07e2c81"
      },
      "source": [
        "print(len(cast))\n",
        "print(cast[:6])"
      ],
      "execution_count": 41,
      "outputs": [
        {
          "output_type": "stream",
          "text": [
            "15\n",
            "['Robert Downey Jr.', 'Chris Evans', 'Mark Ruffalo', 'Chris Hemsworth', 'Scarlett Johansson', 'Jeremy Renner']\n"
          ],
          "name": "stdout"
        }
      ]
    },
    {
      "cell_type": "code",
      "metadata": {
        "id": "qNH9mt3zeNTf",
        "colab_type": "code",
        "colab": {
          "base_uri": "https://localhost:8080/",
          "height": 71
        },
        "outputId": "3cbc47bf-aec9-4fa5-8a61-3d4f147b9b47"
      },
      "source": [
        "import pandas as pd\n",
        "\n",
        "time_series_df = pd.read_csv(\"https://raw.githubusercontent.com/CSSEGISandData/COVID-19/master/csse_covid_19_data/csse_covid_19_time_series/time_series_covid19_confirmed_global.csv\")\n",
        "cumulative_confirmed = list(time_series_df[time_series_df['Country/Region'] == 'Taiwan*'].values.ravel()[4:].astype(int))\n",
        "cumulative_confirmed_lag = list(time_series_df[time_series_df['Country/Region'] == 'Taiwan*'].values.ravel()[4:].astype(int))\n",
        "print(cumulative_confirmed)\n",
        "print(cumulative_confirmed_lag)"
      ],
      "execution_count": 42,
      "outputs": [
        {
          "output_type": "stream",
          "text": [
            "[1, 1, 3, 3, 4, 5, 8, 8, 9, 10, 10, 10, 10, 11, 11, 16, 16, 17, 18, 18, 18, 18, 18, 18, 18, 20, 22, 22, 23, 24, 26, 26, 28, 30, 31, 32, 32, 34, 39, 40, 41, 42, 42, 44, 45, 45, 45, 45, 47, 48, 49, 50, 53, 59, 67, 77, 100, 108, 135, 153, 169, 195, 215, 235, 252, 267, 283, 298, 306, 322, 329, 339, 348, 355, 363, 373, 376, 379, 380, 382, 385, 388, 393, 393, 395, 395, 395, 398, 420, 422, 425, 426, 427, 428, 429, 429, 429, 429, 429, 429, 429, 432, 436, 438, 438, 439, 440]\n",
            "[1, 1, 3, 3, 4, 5, 8, 8, 9, 10, 10, 10, 10, 11, 11, 16, 16, 17, 18, 18, 18, 18, 18, 18, 18, 20, 22, 22, 23, 24, 26, 26, 28, 30, 31, 32, 32, 34, 39, 40, 41, 42, 42, 44, 45, 45, 45, 45, 47, 48, 49, 50, 53, 59, 67, 77, 100, 108, 135, 153, 169, 195, 215, 235, 252, 267, 283, 298, 306, 322, 329, 339, 348, 355, 363, 373, 376, 379, 380, 382, 385, 388, 393, 393, 395, 395, 395, 398, 420, 422, 425, 426, 427, 428, 429, 429, 429, 429, 429, 429, 429, 432, 436, 438, 438, 439, 440]\n"
          ],
          "name": "stdout"
        }
      ]
    },
    {
      "cell_type": "code",
      "metadata": {
        "id": "Zx-XL8SbeNW2",
        "colab_type": "code",
        "colab": {
          "base_uri": "https://localhost:8080/",
          "height": 51
        },
        "outputId": "37565c4b-b8a0-4cdf-8f2b-902d100cf0e1"
      },
      "source": [
        "print(len(cumulative_confirmed))\n",
        "print(cumulative_confirmed[-1])"
      ],
      "execution_count": 43,
      "outputs": [
        {
          "output_type": "stream",
          "text": [
            "107\n",
            "440\n"
          ],
          "name": "stdout"
        }
      ]
    },
    {
      "cell_type": "code",
      "metadata": {
        "id": "oIcAVy0ReNZO",
        "colab_type": "code",
        "colab": {
          "base_uri": "https://localhost:8080/",
          "height": 51
        },
        "outputId": "e5bdcd64-798b-4677-9bc4-cd85243021e7"
      },
      "source": [
        "cumulative_confirmed_lag.insert(0, 0)\n",
        "print(len(cumulative_confirmed_lag))\n",
        "print(cumulative_confirmed_lag[0])"
      ],
      "execution_count": 44,
      "outputs": [
        {
          "output_type": "stream",
          "text": [
            "108\n",
            "0\n"
          ],
          "name": "stdout"
        }
      ]
    },
    {
      "cell_type": "code",
      "metadata": {
        "id": "ZlrLgv0DeNcu",
        "colab_type": "code",
        "colab": {
          "base_uri": "https://localhost:8080/",
          "height": 51
        },
        "outputId": "026d92c9-7e93-494c-8603-44f426814313"
      },
      "source": [
        "cumulative_confirmed_lag.pop()\n",
        "print(len(cumulative_confirmed_lag))\n",
        "print(cumulative_confirmed_lag[-1])"
      ],
      "execution_count": 45,
      "outputs": [
        {
          "output_type": "stream",
          "text": [
            "107\n",
            "439\n"
          ],
          "name": "stdout"
        }
      ]
    },
    {
      "cell_type": "code",
      "metadata": {
        "id": "VHk1aH2WeNf-",
        "colab_type": "code",
        "colab": {
          "base_uri": "https://localhost:8080/",
          "height": 71
        },
        "outputId": "46c1caea-556d-48f8-bfdc-836823679768"
      },
      "source": [
        "print(cumulative_confirmed)\n",
        "print(cumulative_confirmed_lag)"
      ],
      "execution_count": 46,
      "outputs": [
        {
          "output_type": "stream",
          "text": [
            "[1, 1, 3, 3, 4, 5, 8, 8, 9, 10, 10, 10, 10, 11, 11, 16, 16, 17, 18, 18, 18, 18, 18, 18, 18, 20, 22, 22, 23, 24, 26, 26, 28, 30, 31, 32, 32, 34, 39, 40, 41, 42, 42, 44, 45, 45, 45, 45, 47, 48, 49, 50, 53, 59, 67, 77, 100, 108, 135, 153, 169, 195, 215, 235, 252, 267, 283, 298, 306, 322, 329, 339, 348, 355, 363, 373, 376, 379, 380, 382, 385, 388, 393, 393, 395, 395, 395, 398, 420, 422, 425, 426, 427, 428, 429, 429, 429, 429, 429, 429, 429, 432, 436, 438, 438, 439, 440]\n",
            "[0, 1, 1, 3, 3, 4, 5, 8, 8, 9, 10, 10, 10, 10, 11, 11, 16, 16, 17, 18, 18, 18, 18, 18, 18, 18, 20, 22, 22, 23, 24, 26, 26, 28, 30, 31, 32, 32, 34, 39, 40, 41, 42, 42, 44, 45, 45, 45, 45, 47, 48, 49, 50, 53, 59, 67, 77, 100, 108, 135, 153, 169, 195, 215, 235, 252, 267, 283, 298, 306, 322, 329, 339, 348, 355, 363, 373, 376, 379, 380, 382, 385, 388, 393, 393, 395, 395, 395, 398, 420, 422, 425, 426, 427, 428, 429, 429, 429, 429, 429, 429, 429, 432, 436, 438, 438, 439]\n"
          ],
          "name": "stdout"
        }
      ]
    },
    {
      "cell_type": "code",
      "metadata": {
        "id": "4eDyScZPebwX",
        "colab_type": "code",
        "colab": {}
      },
      "source": [
        "daily_increase = []"
      ],
      "execution_count": 0,
      "outputs": []
    },
    {
      "cell_type": "code",
      "metadata": {
        "id": "s5xFFf4LecUH",
        "colab_type": "code",
        "colab": {
          "base_uri": "https://localhost:8080/",
          "height": 34
        },
        "outputId": "077875cf-17e4-4f1b-cfd0-2b39070c0be2"
      },
      "source": [
        "#daily_increase = ?\n",
        "day0_increase = cumulative_confirmed[0] - cumulative_confirmed_lag[0]\n",
        "print(day0_increase)\n",
        "daily_increase.append(day0_increase)"
      ],
      "execution_count": 48,
      "outputs": [
        {
          "output_type": "stream",
          "text": [
            "1\n"
          ],
          "name": "stdout"
        }
      ]
    },
    {
      "cell_type": "code",
      "metadata": {
        "id": "l-RT437xecW3",
        "colab_type": "code",
        "colab": {
          "base_uri": "https://localhost:8080/",
          "height": 34
        },
        "outputId": "161598ef-7ad9-4eeb-b3bc-8f57aeca4541"
      },
      "source": [
        "day1_increase = cumulative_confirmed[1] - cumulative_confirmed_lag[1]\n",
        "print(day1_increase)\n",
        "daily_increase.append(day1_increase)"
      ],
      "execution_count": 49,
      "outputs": [
        {
          "output_type": "stream",
          "text": [
            "0\n"
          ],
          "name": "stdout"
        }
      ]
    },
    {
      "cell_type": "code",
      "metadata": {
        "id": "Fr4sMAf5ecZ5",
        "colab_type": "code",
        "colab": {
          "base_uri": "https://localhost:8080/",
          "height": 34
        },
        "outputId": "4b58ae34-0b50-40f4-8a13-1182eba1a2d8"
      },
      "source": [
        "day2_increase = cumulative_confirmed[2] - cumulative_confirmed_lag[2]\n",
        "print(day2_increase)\n",
        "daily_increase.append(day2_increase)"
      ],
      "execution_count": 50,
      "outputs": [
        {
          "output_type": "stream",
          "text": [
            "2\n"
          ],
          "name": "stdout"
        }
      ]
    },
    {
      "cell_type": "code",
      "metadata": {
        "id": "umOmM2doeNjA",
        "colab_type": "code",
        "colab": {
          "base_uri": "https://localhost:8080/",
          "height": 34
        },
        "outputId": "d6933af3-733e-4b24-c62f-2b4b50d16ee5"
      },
      "source": [
        "daily_increase"
      ],
      "execution_count": 51,
      "outputs": [
        {
          "output_type": "execute_result",
          "data": {
            "text/plain": [
              "[1, 0, 2]"
            ]
          },
          "metadata": {
            "tags": []
          },
          "execution_count": 51
        }
      ]
    },
    {
      "cell_type": "code",
      "metadata": {
        "id": "ljpxsgaZejNi",
        "colab_type": "code",
        "colab": {
          "base_uri": "https://localhost:8080/",
          "height": 34
        },
        "outputId": "20e19472-34d3-4b4f-80df-f1d6172f6168"
      },
      "source": [
        "day106_increase = cumulative_confirmed[106] - cumulative_confirmed_lag[106]\n",
        "print(day106_increase)"
      ],
      "execution_count": 52,
      "outputs": [
        {
          "output_type": "stream",
          "text": [
            "1\n"
          ],
          "name": "stdout"
        }
      ]
    },
    {
      "cell_type": "code",
      "metadata": {
        "id": "bfjQ22ArejQx",
        "colab_type": "code",
        "colab": {
          "base_uri": "https://localhost:8080/",
          "height": 1000
        },
        "outputId": "85d2d0d2-a724-4db2-f911-aec54d702a58"
      },
      "source": [
        "daily_increase = []\n",
        "i = 0\n",
        "while i < 107:\n",
        "    dayn_increase = cumulative_confirmed[i] - cumulative_confirmed_lag[i]\n",
        "    print(\"Day {}: 每日新增確診人數 {}\".format(i, dayn_increase))\n",
        "    daily_increase.append(dayn_increase)\n",
        "    i += 1"
      ],
      "execution_count": 53,
      "outputs": [
        {
          "output_type": "stream",
          "text": [
            "Day 0: 每日新增確診人數 1\n",
            "Day 1: 每日新增確診人數 0\n",
            "Day 2: 每日新增確診人數 2\n",
            "Day 3: 每日新增確診人數 0\n",
            "Day 4: 每日新增確診人數 1\n",
            "Day 5: 每日新增確診人數 1\n",
            "Day 6: 每日新增確診人數 3\n",
            "Day 7: 每日新增確診人數 0\n",
            "Day 8: 每日新增確診人數 1\n",
            "Day 9: 每日新增確診人數 1\n",
            "Day 10: 每日新增確診人數 0\n",
            "Day 11: 每日新增確診人數 0\n",
            "Day 12: 每日新增確診人數 0\n",
            "Day 13: 每日新增確診人數 1\n",
            "Day 14: 每日新增確診人數 0\n",
            "Day 15: 每日新增確診人數 5\n",
            "Day 16: 每日新增確診人數 0\n",
            "Day 17: 每日新增確診人數 1\n",
            "Day 18: 每日新增確診人數 1\n",
            "Day 19: 每日新增確診人數 0\n",
            "Day 20: 每日新增確診人數 0\n",
            "Day 21: 每日新增確診人數 0\n",
            "Day 22: 每日新增確診人數 0\n",
            "Day 23: 每日新增確診人數 0\n",
            "Day 24: 每日新增確診人數 0\n",
            "Day 25: 每日新增確診人數 2\n",
            "Day 26: 每日新增確診人數 2\n",
            "Day 27: 每日新增確診人數 0\n",
            "Day 28: 每日新增確診人數 1\n",
            "Day 29: 每日新增確診人數 1\n",
            "Day 30: 每日新增確診人數 2\n",
            "Day 31: 每日新增確診人數 0\n",
            "Day 32: 每日新增確診人數 2\n",
            "Day 33: 每日新增確診人數 2\n",
            "Day 34: 每日新增確診人數 1\n",
            "Day 35: 每日新增確診人數 1\n",
            "Day 36: 每日新增確診人數 0\n",
            "Day 37: 每日新增確診人數 2\n",
            "Day 38: 每日新增確診人數 5\n",
            "Day 39: 每日新增確診人數 1\n",
            "Day 40: 每日新增確診人數 1\n",
            "Day 41: 每日新增確診人數 1\n",
            "Day 42: 每日新增確診人數 0\n",
            "Day 43: 每日新增確診人數 2\n",
            "Day 44: 每日新增確診人數 1\n",
            "Day 45: 每日新增確診人數 0\n",
            "Day 46: 每日新增確診人數 0\n",
            "Day 47: 每日新增確診人數 0\n",
            "Day 48: 每日新增確診人數 2\n",
            "Day 49: 每日新增確診人數 1\n",
            "Day 50: 每日新增確診人數 1\n",
            "Day 51: 每日新增確診人數 1\n",
            "Day 52: 每日新增確診人數 3\n",
            "Day 53: 每日新增確診人數 6\n",
            "Day 54: 每日新增確診人數 8\n",
            "Day 55: 每日新增確診人數 10\n",
            "Day 56: 每日新增確診人數 23\n",
            "Day 57: 每日新增確診人數 8\n",
            "Day 58: 每日新增確診人數 27\n",
            "Day 59: 每日新增確診人數 18\n",
            "Day 60: 每日新增確診人數 16\n",
            "Day 61: 每日新增確診人數 26\n",
            "Day 62: 每日新增確診人數 20\n",
            "Day 63: 每日新增確診人數 20\n",
            "Day 64: 每日新增確診人數 17\n",
            "Day 65: 每日新增確診人數 15\n",
            "Day 66: 每日新增確診人數 16\n",
            "Day 67: 每日新增確診人數 15\n",
            "Day 68: 每日新增確診人數 8\n",
            "Day 69: 每日新增確診人數 16\n",
            "Day 70: 每日新增確診人數 7\n",
            "Day 71: 每日新增確診人數 10\n",
            "Day 72: 每日新增確診人數 9\n",
            "Day 73: 每日新增確診人數 7\n",
            "Day 74: 每日新增確診人數 8\n",
            "Day 75: 每日新增確診人數 10\n",
            "Day 76: 每日新增確診人數 3\n",
            "Day 77: 每日新增確診人數 3\n",
            "Day 78: 每日新增確診人數 1\n",
            "Day 79: 每日新增確診人數 2\n",
            "Day 80: 每日新增確診人數 3\n",
            "Day 81: 每日新增確診人數 3\n",
            "Day 82: 每日新增確診人數 5\n",
            "Day 83: 每日新增確診人數 0\n",
            "Day 84: 每日新增確診人數 2\n",
            "Day 85: 每日新增確診人數 0\n",
            "Day 86: 每日新增確診人數 0\n",
            "Day 87: 每日新增確診人數 3\n",
            "Day 88: 每日新增確診人數 22\n",
            "Day 89: 每日新增確診人數 2\n",
            "Day 90: 每日新增確診人數 3\n",
            "Day 91: 每日新增確診人數 1\n",
            "Day 92: 每日新增確診人數 1\n",
            "Day 93: 每日新增確診人數 1\n",
            "Day 94: 每日新增確診人數 1\n",
            "Day 95: 每日新增確診人數 0\n",
            "Day 96: 每日新增確診人數 0\n",
            "Day 97: 每日新增確診人數 0\n",
            "Day 98: 每日新增確診人數 0\n",
            "Day 99: 每日新增確診人數 0\n",
            "Day 100: 每日新增確診人數 0\n",
            "Day 101: 每日新增確診人數 3\n",
            "Day 102: 每日新增確診人數 4\n",
            "Day 103: 每日新增確診人數 2\n",
            "Day 104: 每日新增確診人數 0\n",
            "Day 105: 每日新增確診人數 1\n",
            "Day 106: 每日新增確診人數 1\n"
          ],
          "name": "stdout"
        }
      ]
    },
    {
      "cell_type": "code",
      "metadata": {
        "id": "hTm0rHdiejUC",
        "colab_type": "code",
        "colab": {
          "base_uri": "https://localhost:8080/",
          "height": 68
        },
        "outputId": "d44c26a5-64fe-45ba-e8e2-0cec7df9c924"
      },
      "source": [
        "print(len(daily_increase))\n",
        "print(daily_increase[:10])\n",
        "print(daily_increase[-10:])"
      ],
      "execution_count": 54,
      "outputs": [
        {
          "output_type": "stream",
          "text": [
            "107\n",
            "[1, 0, 2, 0, 1, 1, 3, 0, 1, 1]\n",
            "[0, 0, 0, 0, 3, 4, 2, 0, 1, 1]\n"
          ],
          "name": "stdout"
        }
      ]
    }
  ]
}