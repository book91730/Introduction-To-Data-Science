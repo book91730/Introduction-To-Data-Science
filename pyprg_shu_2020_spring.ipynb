{
  "nbformat": 4,
  "nbformat_minor": 0,
  "metadata": {
    "colab": {
      "name": "pyprg-shu-2020-spring.ipynb",
      "provenance": [],
      "toc_visible": true
    },
    "kernelspec": {
      "name": "python3",
      "display_name": "Python 3"
    }
  },
  "cells": [
    {
      "cell_type": "markdown",
      "metadata": {
        "id": "9kDPD3kpO4kH",
        "colab_type": "text"
      },
      "source": [
        "# Python 程式設計 | 世新大學 2020 春季班\n",
        "\n",
        "<https://www.sli.do>: X598\n",
        "\n",
        "郭耀仁 tonykuoyj@gmail.com"
      ]
    },
    {
      "cell_type": "markdown",
      "metadata": {
        "id": "aZpB8g66Pbqh",
        "colab_type": "text"
      },
      "source": [
        "## 2020-03-13"
      ]
    },
    {
      "cell_type": "code",
      "metadata": {
        "id": "qtfMYrzpO2-f",
        "colab_type": "code",
        "outputId": "600f9cd0-327d-4b8e-88c9-f26ce1627738",
        "colab": {
          "base_uri": "https://localhost:8080/",
          "height": 34
        }
      },
      "source": [
        "# hello.py\n",
        "print(\"Hello World!\")"
      ],
      "execution_count": 0,
      "outputs": [
        {
          "output_type": "stream",
          "text": [
            "Hello World!\n"
          ],
          "name": "stdout"
        }
      ]
    },
    {
      "cell_type": "code",
      "metadata": {
        "id": "ekq1XrYUPIVg",
        "colab_type": "code",
        "outputId": "47c13903-6029-4c25-a036-49da8cd6d3ab",
        "colab": {
          "base_uri": "https://localhost:8080/",
          "height": 386
        }
      },
      "source": [
        "# zen.py\n",
        "import this"
      ],
      "execution_count": 0,
      "outputs": [
        {
          "output_type": "stream",
          "text": [
            "The Zen of Python, by Tim Peters\n",
            "\n",
            "Beautiful is better than ugly.\n",
            "Explicit is better than implicit.\n",
            "Simple is better than complex.\n",
            "Complex is better than complicated.\n",
            "Flat is better than nested.\n",
            "Sparse is better than dense.\n",
            "Readability counts.\n",
            "Special cases aren't special enough to break the rules.\n",
            "Although practicality beats purity.\n",
            "Errors should never pass silently.\n",
            "Unless explicitly silenced.\n",
            "In the face of ambiguity, refuse the temptation to guess.\n",
            "There should be one-- and preferably only one --obvious way to do it.\n",
            "Although that way may not be obvious at first unless you're Dutch.\n",
            "Now is better than never.\n",
            "Although never is often better than *right* now.\n",
            "If the implementation is hard to explain, it's a bad idea.\n",
            "If the implementation is easy to explain, it may be a good idea.\n",
            "Namespaces are one honking great idea -- let's do more of those!\n"
          ],
          "name": "stdout"
        }
      ]
    },
    {
      "cell_type": "markdown",
      "metadata": {
        "id": "leiF7-OEcoWA",
        "colab_type": "text"
      },
      "source": [
        "## 2020-03-20"
      ]
    },
    {
      "cell_type": "code",
      "metadata": {
        "id": "WA0tGwGGcrzS",
        "colab_type": "code",
        "outputId": "413d6a0c-9f71-46f9-c8ee-efb18a0af453",
        "colab": {
          "base_uri": "https://localhost:8080/",
          "height": 34
        }
      },
      "source": [
        "# input \"03-19-2020\"\n",
        "# output \"03-19-2020.csv\"\n",
        "#import requests\n",
        "import pandas as pd\n",
        "\n",
        "def get_covid_daily_data(input_date):\n",
        "    csv_name = input_date + \".csv\"\n",
        "    github_url = \"https://raw.githubusercontent.com/CSSEGISandData/COVID-19/master/csse_covid_19_data/csse_covid_19_daily_reports/{}\".format(csv_name)\n",
        "    #response = requests.get(github_url)\n",
        "    df = pd.read_csv(github_url)\n",
        "    # df.head()\n",
        "    # df.tail()\n",
        "    df.to_csv(csv_name, index=False)\n",
        "\n",
        "user_input = input(\"Please input a date(mm-dd-yyyy):\")\n",
        "get_covid_daily_data(user_input)"
      ],
      "execution_count": 0,
      "outputs": [
        {
          "output_type": "stream",
          "text": [
            "Please input a date(mm-dd-yyyy):01-22-2020\n"
          ],
          "name": "stdout"
        }
      ]
    },
    {
      "cell_type": "code",
      "metadata": {
        "id": "8Yu7hw5d0J0i",
        "colab_type": "code",
        "outputId": "838a145a-84c0-46a0-c44c-be1bd36781b2",
        "colab": {
          "base_uri": "https://localhost:8080/",
          "height": 1000
        }
      },
      "source": [
        "from datetime import date, timedelta\n",
        "\n",
        "start_date = date(2020, 1, 22)\n",
        "#time_delta = timedelta(57)\n",
        "#end_date = start_date + time_delta\n",
        "date_period = [start_date + timedelta(i) for i in range(58)]\n",
        "data_dates = [i.strftime('%m-%d-%Y') for i in date_period]\n",
        "for dt in data_dates:\n",
        "    print(\"Downloading {}.csv...\".format(dt))\n",
        "    get_covid_daily_data(dt)"
      ],
      "execution_count": 0,
      "outputs": [
        {
          "output_type": "stream",
          "text": [
            "Downloading 01-22-2020.csv...\n",
            "Downloading 01-23-2020.csv...\n",
            "Downloading 01-24-2020.csv...\n",
            "Downloading 01-25-2020.csv...\n",
            "Downloading 01-26-2020.csv...\n",
            "Downloading 01-27-2020.csv...\n",
            "Downloading 01-28-2020.csv...\n",
            "Downloading 01-29-2020.csv...\n",
            "Downloading 01-30-2020.csv...\n",
            "Downloading 01-31-2020.csv...\n",
            "Downloading 02-01-2020.csv...\n",
            "Downloading 02-02-2020.csv...\n",
            "Downloading 02-03-2020.csv...\n",
            "Downloading 02-04-2020.csv...\n",
            "Downloading 02-05-2020.csv...\n",
            "Downloading 02-06-2020.csv...\n",
            "Downloading 02-07-2020.csv...\n",
            "Downloading 02-08-2020.csv...\n",
            "Downloading 02-09-2020.csv...\n",
            "Downloading 02-10-2020.csv...\n",
            "Downloading 02-11-2020.csv...\n",
            "Downloading 02-12-2020.csv...\n",
            "Downloading 02-13-2020.csv...\n",
            "Downloading 02-14-2020.csv...\n",
            "Downloading 02-15-2020.csv...\n",
            "Downloading 02-16-2020.csv...\n",
            "Downloading 02-17-2020.csv...\n",
            "Downloading 02-18-2020.csv...\n",
            "Downloading 02-19-2020.csv...\n",
            "Downloading 02-20-2020.csv...\n",
            "Downloading 02-21-2020.csv...\n",
            "Downloading 02-22-2020.csv...\n",
            "Downloading 02-23-2020.csv...\n",
            "Downloading 02-24-2020.csv...\n",
            "Downloading 02-25-2020.csv...\n",
            "Downloading 02-26-2020.csv...\n",
            "Downloading 02-27-2020.csv...\n",
            "Downloading 02-28-2020.csv...\n",
            "Downloading 02-29-2020.csv...\n",
            "Downloading 03-01-2020.csv...\n",
            "Downloading 03-02-2020.csv...\n",
            "Downloading 03-03-2020.csv...\n",
            "Downloading 03-04-2020.csv...\n",
            "Downloading 03-05-2020.csv...\n",
            "Downloading 03-06-2020.csv...\n",
            "Downloading 03-07-2020.csv...\n",
            "Downloading 03-08-2020.csv...\n",
            "Downloading 03-09-2020.csv...\n",
            "Downloading 03-10-2020.csv...\n",
            "Downloading 03-11-2020.csv...\n",
            "Downloading 03-12-2020.csv...\n",
            "Downloading 03-13-2020.csv...\n",
            "Downloading 03-14-2020.csv...\n",
            "Downloading 03-15-2020.csv...\n",
            "Downloading 03-16-2020.csv...\n",
            "Downloading 03-17-2020.csv...\n",
            "Downloading 03-18-2020.csv...\n",
            "Downloading 03-19-2020.csv...\n"
          ],
          "name": "stdout"
        }
      ]
    },
    {
      "cell_type": "code",
      "metadata": {
        "id": "dEKaRL5g4p2F",
        "colab_type": "code",
        "outputId": "1321a528-d7a0-412e-d1df-88d51df12830",
        "colab": {
          "base_uri": "https://localhost:8080/",
          "height": 131
        }
      },
      "source": [
        "56_cannot_die = '五六不能亡'"
      ],
      "execution_count": 0,
      "outputs": [
        {
          "output_type": "error",
          "ename": "SyntaxError",
          "evalue": "ignored",
          "traceback": [
            "\u001b[0;36m  File \u001b[0;32m\"<ipython-input-3-714616b2b2ca>\"\u001b[0;36m, line \u001b[0;32m1\u001b[0m\n\u001b[0;31m    56_cannot_die = '五六不能亡'\u001b[0m\n\u001b[0m      ^\u001b[0m\n\u001b[0;31mSyntaxError\u001b[0m\u001b[0;31m:\u001b[0m invalid token\n"
          ]
        }
      ]
    },
    {
      "cell_type": "code",
      "metadata": {
        "id": "VUa9k-tRAkva",
        "colab_type": "code",
        "outputId": "6cdc7df9-efef-4ac2-e9b2-4c77b6701182",
        "colab": {
          "base_uri": "https://localhost:8080/",
          "height": 34
        }
      },
      "source": [
        "cannot_56_die = '五六不能亡'\n",
        "print(cannot_56_die)"
      ],
      "execution_count": 0,
      "outputs": [
        {
          "output_type": "stream",
          "text": [
            "五六不能亡\n"
          ],
          "name": "stdout"
        }
      ]
    },
    {
      "cell_type": "code",
      "metadata": {
        "id": "CwZvL4otAo1-",
        "colab_type": "code",
        "outputId": "f7890be4-ffe6-427b-c8ad-5531f07a935f",
        "colab": {
          "base_uri": "https://localhost:8080/",
          "height": 34
        }
      },
      "source": [
        "cannot_die_56 = '五六不能亡'\n",
        "print(cannot_die_56)"
      ],
      "execution_count": 0,
      "outputs": [
        {
          "output_type": "stream",
          "text": [
            "五六不能亡\n"
          ],
          "name": "stdout"
        }
      ]
    },
    {
      "cell_type": "code",
      "metadata": {
        "id": "dWwn1q29Avjd",
        "colab_type": "code",
        "outputId": "9d4fec87-50ac-46a7-9322-1d3494f9ce87",
        "colab": {
          "base_uri": "https://localhost:8080/",
          "height": 131
        }
      },
      "source": [
        "56_cannot_die = '五六不能亡'\n",
        "print(56_cannot_die)"
      ],
      "execution_count": 0,
      "outputs": [
        {
          "output_type": "error",
          "ename": "SyntaxError",
          "evalue": "ignored",
          "traceback": [
            "\u001b[0;36m  File \u001b[0;32m\"<ipython-input-8-bdc3a044fa9c>\"\u001b[0;36m, line \u001b[0;32m1\u001b[0m\n\u001b[0;31m    56_cannot_die = '五六不能亡'\u001b[0m\n\u001b[0m      ^\u001b[0m\n\u001b[0;31mSyntaxError\u001b[0m\u001b[0;31m:\u001b[0m invalid token\n"
          ]
        }
      ]
    },
    {
      "cell_type": "code",
      "metadata": {
        "id": "tUFFeOCYA2sz",
        "colab_type": "code",
        "outputId": "5bd39cc8-30dc-4c77-888a-a6c94371e1e7",
        "colab": {
          "base_uri": "https://localhost:8080/",
          "height": 131
        }
      },
      "source": [
        "for = \"For\""
      ],
      "execution_count": 0,
      "outputs": [
        {
          "output_type": "error",
          "ename": "SyntaxError",
          "evalue": "ignored",
          "traceback": [
            "\u001b[0;36m  File \u001b[0;32m\"<ipython-input-9-c65b3159e299>\"\u001b[0;36m, line \u001b[0;32m1\u001b[0m\n\u001b[0;31m    for = \"For\"\u001b[0m\n\u001b[0m        ^\u001b[0m\n\u001b[0;31mSyntaxError\u001b[0m\u001b[0;31m:\u001b[0m invalid syntax\n"
          ]
        }
      ]
    },
    {
      "cell_type": "code",
      "metadata": {
        "id": "H60P0MXqBb_p",
        "colab_type": "code",
        "outputId": "07bdc685-3e6d-48ef-f539-17843a8cd5ae",
        "colab": {
          "base_uri": "https://localhost:8080/",
          "height": 131
        }
      },
      "source": [
        "True = 1"
      ],
      "execution_count": 0,
      "outputs": [
        {
          "output_type": "error",
          "ename": "SyntaxError",
          "evalue": "ignored",
          "traceback": [
            "\u001b[0;36m  File \u001b[0;32m\"<ipython-input-10-1598b51f0f76>\"\u001b[0;36m, line \u001b[0;32m1\u001b[0m\n\u001b[0;31m    True = 1\u001b[0m\n\u001b[0m            ^\u001b[0m\n\u001b[0;31mSyntaxError\u001b[0m\u001b[0;31m:\u001b[0m can't assign to keyword\n"
          ]
        }
      ]
    },
    {
      "cell_type": "code",
      "metadata": {
        "id": "e2n5VIyGDJAB",
        "colab_type": "code",
        "colab": {}
      },
      "source": [
        "print = 5566"
      ],
      "execution_count": 0,
      "outputs": []
    },
    {
      "cell_type": "code",
      "metadata": {
        "id": "m-i3wOKuBehV",
        "colab_type": "code",
        "outputId": "2be1da20-7a0e-41af-a539-ffd5e3db7d68",
        "colab": {
          "base_uri": "https://localhost:8080/",
          "height": 182
        }
      },
      "source": [
        "movie_title = \"Avengers: Endgame\"\n",
        "print(movie_title)"
      ],
      "execution_count": 0,
      "outputs": [
        {
          "output_type": "error",
          "ename": "TypeError",
          "evalue": "ignored",
          "traceback": [
            "\u001b[0;31m---------------------------------------------------------------------------\u001b[0m",
            "\u001b[0;31mTypeError\u001b[0m                                 Traceback (most recent call last)",
            "\u001b[0;32m<ipython-input-17-c009747c7322>\u001b[0m in \u001b[0;36m<module>\u001b[0;34m()\u001b[0m\n\u001b[1;32m      1\u001b[0m \u001b[0mmovie_title\u001b[0m \u001b[0;34m=\u001b[0m \u001b[0;34m\"Avengers: Endgame\"\u001b[0m\u001b[0;34m\u001b[0m\u001b[0;34m\u001b[0m\u001b[0m\n\u001b[0;32m----> 2\u001b[0;31m \u001b[0mprint\u001b[0m\u001b[0;34m(\u001b[0m\u001b[0mmovie_title\u001b[0m\u001b[0;34m)\u001b[0m\u001b[0;34m\u001b[0m\u001b[0;34m\u001b[0m\u001b[0m\n\u001b[0m",
            "\u001b[0;31mTypeError\u001b[0m: 'int' object is not callable"
          ]
        }
      ]
    },
    {
      "cell_type": "code",
      "metadata": {
        "id": "0GF9U47HC27d",
        "colab_type": "code",
        "colab": {}
      },
      "source": [
        "print = 5566\n",
        "del print"
      ],
      "execution_count": 0,
      "outputs": []
    },
    {
      "cell_type": "code",
      "metadata": {
        "id": "XdMmBmTdDxXx",
        "colab_type": "code",
        "outputId": "d30c1931-5256-4503-bf02-7e2ac2dc84b4",
        "colab": {
          "base_uri": "https://localhost:8080/",
          "height": 34
        }
      },
      "source": [
        "movie_title = \"Avengers: Endgame\"\n",
        "print(movie_title)"
      ],
      "execution_count": 0,
      "outputs": [
        {
          "output_type": "stream",
          "text": [
            "Avengers: Endgame\n"
          ],
          "name": "stdout"
        }
      ]
    },
    {
      "cell_type": "code",
      "metadata": {
        "id": "MthulLFhDzaF",
        "colab_type": "code",
        "outputId": "bfb8b51b-8887-4390-8f15-ff03c50c473d",
        "colab": {
          "base_uri": "https://localhost:8080/",
          "height": 102
        }
      },
      "source": [
        "help(abs)"
      ],
      "execution_count": 0,
      "outputs": [
        {
          "output_type": "stream",
          "text": [
            "Help on built-in function abs in module builtins:\n",
            "\n",
            "abs(x, /)\n",
            "    Return the absolute value of the argument.\n",
            "\n"
          ],
          "name": "stdout"
        }
      ]
    },
    {
      "cell_type": "code",
      "metadata": {
        "id": "70OU4NQGExCz",
        "colab_type": "code",
        "outputId": "d9388c53-e70a-42ec-9119-42cbaf61ea4c",
        "colab": {
          "base_uri": "https://localhost:8080/",
          "height": 136
        }
      },
      "source": [
        "help(all)"
      ],
      "execution_count": 0,
      "outputs": [
        {
          "output_type": "stream",
          "text": [
            "Help on built-in function all in module builtins:\n",
            "\n",
            "all(iterable, /)\n",
            "    Return True if bool(x) is True for all values x in the iterable.\n",
            "    \n",
            "    If the iterable is empty, return True.\n",
            "\n"
          ],
          "name": "stdout"
        }
      ]
    },
    {
      "cell_type": "code",
      "metadata": {
        "id": "wlqCY3EhEz3D",
        "colab_type": "code",
        "outputId": "8cb3e331-d0d6-4985-ac42-409388cb4b8f",
        "colab": {
          "base_uri": "https://localhost:8080/",
          "height": 34
        }
      },
      "source": [
        "my_object = 5566\n",
        "print(my_object)"
      ],
      "execution_count": 0,
      "outputs": [
        {
          "output_type": "stream",
          "text": [
            "5566\n"
          ],
          "name": "stdout"
        }
      ]
    },
    {
      "cell_type": "code",
      "metadata": {
        "id": "qD8hXep2FLeF",
        "colab_type": "code",
        "outputId": "95c740aa-ea09-44ad-bb2c-383694da3995",
        "colab": {
          "base_uri": "https://localhost:8080/",
          "height": 34
        }
      },
      "source": [
        "my_str = '5566'\n",
        "print(my_str)"
      ],
      "execution_count": 0,
      "outputs": [
        {
          "output_type": "stream",
          "text": [
            "5566\n"
          ],
          "name": "stdout"
        }
      ]
    },
    {
      "cell_type": "code",
      "metadata": {
        "id": "B0uLbTgkFQRg",
        "colab_type": "code",
        "outputId": "f51676d5-9e23-455d-b988-876502b9e2e7",
        "colab": {
          "base_uri": "https://localhost:8080/",
          "height": 34
        }
      },
      "source": [
        "print(my_object**2)"
      ],
      "execution_count": 0,
      "outputs": [
        {
          "output_type": "stream",
          "text": [
            "30980356\n"
          ],
          "name": "stdout"
        }
      ]
    },
    {
      "cell_type": "code",
      "metadata": {
        "id": "XSWGwmrwFXHU",
        "colab_type": "code",
        "outputId": "85eae22a-06e9-4311-d735-b95782c739ea",
        "colab": {
          "base_uri": "https://localhost:8080/",
          "height": 165
        }
      },
      "source": [
        "print(my_str**2)"
      ],
      "execution_count": 0,
      "outputs": [
        {
          "output_type": "error",
          "ename": "TypeError",
          "evalue": "ignored",
          "traceback": [
            "\u001b[0;31m---------------------------------------------------------------------------\u001b[0m",
            "\u001b[0;31mTypeError\u001b[0m                                 Traceback (most recent call last)",
            "\u001b[0;32m<ipython-input-25-e530050dfc4e>\u001b[0m in \u001b[0;36m<module>\u001b[0;34m()\u001b[0m\n\u001b[0;32m----> 1\u001b[0;31m \u001b[0mprint\u001b[0m\u001b[0;34m(\u001b[0m\u001b[0mmy_str\u001b[0m\u001b[0;34m**\u001b[0m\u001b[0;36m2\u001b[0m\u001b[0;34m)\u001b[0m\u001b[0;34m\u001b[0m\u001b[0;34m\u001b[0m\u001b[0m\n\u001b[0m",
            "\u001b[0;31mTypeError\u001b[0m: unsupported operand type(s) for ** or pow(): 'str' and 'int'"
          ]
        }
      ]
    },
    {
      "cell_type": "code",
      "metadata": {
        "id": "8Lo57t2BFZfi",
        "colab_type": "code",
        "outputId": "e8e2bb8f-836a-4eb8-8b10-c9f156ed6882",
        "colab": {
          "base_uri": "https://localhost:8080/",
          "height": 51
        }
      },
      "source": [
        "print(type(my_object))\n",
        "print(type(my_str))"
      ],
      "execution_count": 0,
      "outputs": [
        {
          "output_type": "stream",
          "text": [
            "<class 'int'>\n",
            "<class 'str'>\n"
          ],
          "name": "stdout"
        }
      ]
    },
    {
      "cell_type": "code",
      "metadata": {
        "id": "xybSu6i2FkYD",
        "colab_type": "code",
        "outputId": "ff776152-a9c0-4b99-fdd1-d7f8ce9a30af",
        "colab": {
          "base_uri": "https://localhost:8080/",
          "height": 119
        }
      },
      "source": [
        "movie_title = \"Avengers: Endgame\"\n",
        "movie_length = 181\n",
        "movie_rating = 8.4\n",
        "\n",
        "print(movie_title)\n",
        "print(movie_length)\n",
        "print(movie_rating)\n",
        "\n",
        "print(type(movie_title))\n",
        "print(type(movie_length))\n",
        "print(type(movie_rating))"
      ],
      "execution_count": 0,
      "outputs": [
        {
          "output_type": "stream",
          "text": [
            "Avengers: Endgame\n",
            "181\n",
            "8.4\n",
            "<class 'str'>\n",
            "<class 'int'>\n",
            "<class 'float'>\n"
          ],
          "name": "stdout"
        }
      ]
    },
    {
      "cell_type": "markdown",
      "metadata": {
        "id": "emHU5JRBeb2J",
        "colab_type": "text"
      },
      "source": [
        "## 2020-03-27"
      ]
    },
    {
      "cell_type": "code",
      "metadata": {
        "id": "nHPJn4t9ee_h",
        "colab_type": "code",
        "outputId": "164e9ca7-e6da-487b-952f-bc153739ef2f",
        "colab": {
          "base_uri": "https://localhost:8080/",
          "height": 68
        }
      },
      "source": [
        "movie_title = \"陽光普照\"\n",
        "movie_rating = 7.7\n",
        "movie_time = 156\n",
        "\n",
        "print(movie_title)\n",
        "print(movie_rating)\n",
        "print(movie_time)"
      ],
      "execution_count": 0,
      "outputs": [
        {
          "output_type": "stream",
          "text": [
            "陽光普照\n",
            "7.7\n",
            "156\n"
          ],
          "name": "stdout"
        }
      ]
    },
    {
      "cell_type": "code",
      "metadata": {
        "id": "chhDv7Wrk3h3",
        "colab_type": "code",
        "outputId": "61581bae-ea48-4033-9fcd-0b02b93781a7",
        "colab": {
          "base_uri": "https://localhost:8080/",
          "height": 68
        }
      },
      "source": [
        "print(type(movie_title))\n",
        "print(type(movie_rating))\n",
        "print(type(movie_time))"
      ],
      "execution_count": 0,
      "outputs": [
        {
          "output_type": "stream",
          "text": [
            "<class 'str'>\n",
            "<class 'float'>\n",
            "<class 'int'>\n"
          ],
          "name": "stdout"
        }
      ]
    },
    {
      "cell_type": "code",
      "metadata": {
        "id": "imgUgq05lLM8",
        "colab_type": "code",
        "outputId": "d9fd9674-97cc-4720-c13b-198661945b17",
        "colab": {
          "base_uri": "https://localhost:8080/",
          "height": 221
        }
      },
      "source": [
        "help(print)"
      ],
      "execution_count": 0,
      "outputs": [
        {
          "output_type": "stream",
          "text": [
            "Help on built-in function print in module builtins:\n",
            "\n",
            "print(...)\n",
            "    print(value, ..., sep=' ', end='\\n', file=sys.stdout, flush=False)\n",
            "    \n",
            "    Prints the values to a stream, or to sys.stdout by default.\n",
            "    Optional keyword arguments:\n",
            "    file:  a file-like object (stream); defaults to the current sys.stdout.\n",
            "    sep:   string inserted between values, default a space.\n",
            "    end:   string appended after the last value, default a newline.\n",
            "    flush: whether to forcibly flush the stream.\n",
            "\n"
          ],
          "name": "stdout"
        }
      ]
    },
    {
      "cell_type": "code",
      "metadata": {
        "id": "BY1MA7Lxld3H",
        "colab_type": "code",
        "outputId": "e18054f9-bb92-4709-ec51-dec60cd6103d",
        "colab": {
          "base_uri": "https://localhost:8080/",
          "height": 1000
        }
      },
      "source": [
        "help(type)"
      ],
      "execution_count": 0,
      "outputs": [
        {
          "output_type": "stream",
          "text": [
            "Help on class type in module builtins:\n",
            "\n",
            "class type(object)\n",
            " |  type(object_or_name, bases, dict)\n",
            " |  type(object) -> the object's type\n",
            " |  type(name, bases, dict) -> a new type\n",
            " |  \n",
            " |  Methods defined here:\n",
            " |  \n",
            " |  __call__(self, /, *args, **kwargs)\n",
            " |      Call self as a function.\n",
            " |  \n",
            " |  __delattr__(self, name, /)\n",
            " |      Implement delattr(self, name).\n",
            " |  \n",
            " |  __dir__(...)\n",
            " |      __dir__() -> list\n",
            " |      specialized __dir__ implementation for types\n",
            " |  \n",
            " |  __getattribute__(self, name, /)\n",
            " |      Return getattr(self, name).\n",
            " |  \n",
            " |  __init__(self, /, *args, **kwargs)\n",
            " |      Initialize self.  See help(type(self)) for accurate signature.\n",
            " |  \n",
            " |  __instancecheck__(...)\n",
            " |      __instancecheck__() -> bool\n",
            " |      check if an object is an instance\n",
            " |  \n",
            " |  __new__(*args, **kwargs)\n",
            " |      Create and return a new object.  See help(type) for accurate signature.\n",
            " |  \n",
            " |  __prepare__(...)\n",
            " |      __prepare__() -> dict\n",
            " |      used to create the namespace for the class statement\n",
            " |  \n",
            " |  __repr__(self, /)\n",
            " |      Return repr(self).\n",
            " |  \n",
            " |  __setattr__(self, name, value, /)\n",
            " |      Implement setattr(self, name, value).\n",
            " |  \n",
            " |  __sizeof__(...)\n",
            " |      __sizeof__() -> int\n",
            " |      return memory consumption of the type object\n",
            " |  \n",
            " |  __subclasscheck__(...)\n",
            " |      __subclasscheck__() -> bool\n",
            " |      check if a class is a subclass\n",
            " |  \n",
            " |  __subclasses__(...)\n",
            " |      __subclasses__() -> list of immediate subclasses\n",
            " |  \n",
            " |  mro(...)\n",
            " |      mro() -> list\n",
            " |      return a type's method resolution order\n",
            " |  \n",
            " |  ----------------------------------------------------------------------\n",
            " |  Data descriptors defined here:\n",
            " |  \n",
            " |  __abstractmethods__\n",
            " |  \n",
            " |  __dict__\n",
            " |  \n",
            " |  __text_signature__\n",
            " |  \n",
            " |  ----------------------------------------------------------------------\n",
            " |  Data and other attributes defined here:\n",
            " |  \n",
            " |  __base__ = <class 'object'>\n",
            " |      The most base type\n",
            " |  \n",
            " |  __bases__ = (<class 'object'>,)\n",
            " |  \n",
            " |  __basicsize__ = 864\n",
            " |  \n",
            " |  __dictoffset__ = 264\n",
            " |  \n",
            " |  __flags__ = 2148291584\n",
            " |  \n",
            " |  __itemsize__ = 40\n",
            " |  \n",
            " |  __mro__ = (<class 'type'>, <class 'object'>)\n",
            " |  \n",
            " |  __weakrefoffset__ = 368\n",
            "\n"
          ],
          "name": "stdout"
        }
      ]
    },
    {
      "cell_type": "code",
      "metadata": {
        "id": "6cmiRkrKlgLp",
        "colab_type": "code",
        "colab": {
          "base_uri": "https://localhost:8080/",
          "height": 35
        },
        "outputId": "79952efa-c6e3-4d24-fcf9-e11e3d2a658b"
      },
      "source": [
        "current_celsius = 28\n",
        "current_fahrenheit = current_celsius * 9 / 5 + 32\n",
        "print(current_fahrenheit)"
      ],
      "execution_count": 1,
      "outputs": [
        {
          "output_type": "stream",
          "text": [
            "82.4\n"
          ],
          "name": "stdout"
        }
      ]
    },
    {
      "cell_type": "code",
      "metadata": {
        "id": "BF29BbFaoF0_",
        "colab_type": "code",
        "colab": {
          "base_uri": "https://localhost:8080/",
          "height": 35
        },
        "outputId": "f91a8f33-b850-4d0e-eadc-6cd00dd2bdb9"
      },
      "source": [
        "current_celsius = (current_fahrenheit - 32) * 5 / 9\n",
        "print(current_celsius)"
      ],
      "execution_count": 3,
      "outputs": [
        {
          "output_type": "stream",
          "text": [
            "28.000000000000004\n"
          ],
          "name": "stdout"
        }
      ]
    },
    {
      "cell_type": "code",
      "metadata": {
        "id": "XO4x0gkpuJx0",
        "colab_type": "code",
        "colab": {
          "base_uri": "https://localhost:8080/",
          "height": 74
        },
        "outputId": "02133fab-2b2f-4edb-da04-75d934515ebd"
      },
      "source": [
        "shaq_height = 216\n",
        "shaq_weight = 147\n",
        "shaq_bmi = shaq_weight / (shaq_height / 100) ** 2\n",
        "print(shaq_bmi)"
      ],
      "execution_count": 9,
      "outputs": [
        {
          "output_type": "stream",
          "text": [
            "31.507201646090532\n",
            "ERROR! Session/line number was not unique in database. History logging moved to new session 60\n"
          ],
          "name": "stdout"
        }
      ]
    },
    {
      "cell_type": "code",
      "metadata": {
        "id": "eFQ0F5AIuSvE",
        "colab_type": "code",
        "colab": {
          "base_uri": "https://localhost:8080/",
          "height": 54
        },
        "outputId": "657fc515-3ca6-4747-c76b-34af58ab14c7"
      },
      "source": [
        "movie_title = \"陽光普照\"\n",
        "print(movie_title)\n",
        "print(type(movie_title))"
      ],
      "execution_count": 10,
      "outputs": [
        {
          "output_type": "stream",
          "text": [
            "陽光普照\n",
            "<class 'str'>\n"
          ],
          "name": "stdout"
        }
      ]
    },
    {
      "cell_type": "code",
      "metadata": {
        "id": "3wvtZEZ1-3a7",
        "colab_type": "code",
        "colab": {
          "base_uri": "https://localhost:8080/",
          "height": 54
        },
        "outputId": "b1ae8c98-f77d-4313-ded4-161ff0eba2d2"
      },
      "source": [
        "movie_rating = 7.7\n",
        "print(movie_rating)\n",
        "print(type(movie_rating))"
      ],
      "execution_count": 19,
      "outputs": [
        {
          "output_type": "stream",
          "text": [
            "7.7\n",
            "<class 'float'>\n"
          ],
          "name": "stdout"
        }
      ]
    },
    {
      "cell_type": "code",
      "metadata": {
        "id": "2KR9wWlW-3mK",
        "colab_type": "code",
        "colab": {
          "base_uri": "https://localhost:8080/",
          "height": 54
        },
        "outputId": "4e24fee1-8396-4466-b433-4ad018669f18"
      },
      "source": [
        "movie_time = 156\n",
        "print(movie_time)\n",
        "print(type(movie_time))"
      ],
      "execution_count": 20,
      "outputs": [
        {
          "output_type": "stream",
          "text": [
            "156\n",
            "<class 'int'>\n"
          ],
          "name": "stdout"
        }
      ]
    },
    {
      "cell_type": "code",
      "metadata": {
        "id": "sAnPWvLXuTFM",
        "colab_type": "code",
        "colab": {
          "base_uri": "https://localhost:8080/",
          "height": 74
        },
        "outputId": "5c39d2aa-a540-4a62-90e5-932f35f35c61"
      },
      "source": [
        "movie_story_line = \"\"\"A Sun follows a troubled family of four. A-Ho, the younger son, has always been a problematic child, and his father, A-Wen has invested all his hopes and expectations in his introverted eldest son, A-Hao. While A-Hao is trying to get into medical school, A-Ho faces juvenile detention for a crime committed with his best friend - although not entirely of his own will. A-Wen abandons A-Ho, refusing to help and even requesting the judge to sentence his son as harshly as possible. Not long after A-Ho is sent to prison, to make matters worse, his girlfriend shows up on his mother Qin's doorstep. The teenage girl is pregnant and determined to have A-Ho's child, even though he is locked up and has no idea she is expecting. Written by Toronto International Film Festival\"\"\"\n",
        "print(movie_story_line)\n",
        "print(type(movie_story_line))"
      ],
      "execution_count": 13,
      "outputs": [
        {
          "output_type": "stream",
          "text": [
            "A Sun follows a troubled family of four. A-Ho, the younger son, has always been a problematic child, and his father, A-Wen has invested all his hopes and expectations in his introverted eldest son, A-Hao. While A-Hao is trying to get into medical school, A-Ho faces juvenile detention for a crime committed with his best friend - although not entirely of his own will. A-Wen abandons A-Ho, refusing to help and even requesting the judge to sentence his son as harshly as possible. Not long after A-Ho is sent to prison, to make matters worse, his girlfriend shows up on his mother Qin's doorstep. The teenage girl is pregnant and determined to have A-Ho's child, even though he is locked up and has no idea she is expecting. Written by Toronto International Film Festival\n",
            "<class 'str'>\n"
          ],
          "name": "stdout"
        }
      ]
    },
    {
      "cell_type": "code",
      "metadata": {
        "id": "AnV7kW2p220l",
        "colab_type": "code",
        "colab": {
          "base_uri": "https://localhost:8080/",
          "height": 35
        },
        "outputId": "f7083680-b0a2-47a0-8943-7eb85bbc05e5"
      },
      "source": [
        "mcd = \"I'm lovin' it!\"\n",
        "print(mcd)"
      ],
      "execution_count": 16,
      "outputs": [
        {
          "output_type": "stream",
          "text": [
            "I'm lovin' it!\n"
          ],
          "name": "stdout"
        }
      ]
    },
    {
      "cell_type": "code",
      "metadata": {
        "id": "P25H-eKQ226e",
        "colab_type": "code",
        "colab": {
          "base_uri": "https://localhost:8080/",
          "height": 35
        },
        "outputId": "498e0d55-62d8-4b22-96bc-27463ced6995"
      },
      "source": [
        "ross_said = \"\"\"Let's put aside the fact that you \"accidentally\" pick up my grandmother's ring.\"\"\"\n",
        "print(ross_said)"
      ],
      "execution_count": 17,
      "outputs": [
        {
          "output_type": "stream",
          "text": [
            "Let's put aside the fact that you \"accidentally\" pick up my grandmother's ring.\n"
          ],
          "name": "stdout"
        }
      ]
    },
    {
      "cell_type": "code",
      "metadata": {
        "id": "R5n4UhTF23AO",
        "colab_type": "code",
        "colab": {
          "base_uri": "https://localhost:8080/",
          "height": 72
        },
        "outputId": "5be31851-a9da-4bd9-b475-96958b194be5"
      },
      "source": [
        "print(movie_title)\n",
        "print(movie_rating)\n",
        "print(movie_time)"
      ],
      "execution_count": 21,
      "outputs": [
        {
          "output_type": "stream",
          "text": [
            "陽光普照\n",
            "7.7\n",
            "156\n"
          ],
          "name": "stdout"
        }
      ]
    },
    {
      "cell_type": "code",
      "metadata": {
        "id": "0pmsqH4X-336",
        "colab_type": "code",
        "colab": {
          "base_uri": "https://localhost:8080/",
          "height": 35
        },
        "outputId": "d5f8d89b-5092-43bf-ca89-18cdfe0cec19"
      },
      "source": [
        "print(\"{}的評分為：{} , 片長為{}分鐘\".format(movie_title, movie_rating, movie_time))\n"
      ],
      "execution_count": 25,
      "outputs": [
        {
          "output_type": "stream",
          "text": [
            "陽光普照的評分為：7.7 , 片長為156分鐘\n"
          ],
          "name": "stdout"
        }
      ]
    },
    {
      "cell_type": "code",
      "metadata": {
        "id": "UgJP3AegA33Y",
        "colab_type": "code",
        "colab": {}
      },
      "source": [
        "movie_title = (\"請輸入電影的名稱\")\n",
        "movie_rating = (\"請輸入電影的評等\")"
      ],
      "execution_count": 0,
      "outputs": []
    },
    {
      "cell_type": "code",
      "metadata": {
        "id": "SfkFB0JHBfyh",
        "colab_type": "code",
        "colab": {
          "base_uri": "https://localhost:8080/",
          "height": 54
        },
        "outputId": "4b8697f7-3f4b-4a60-d13f-303274c137be"
      },
      "source": [
        "print(movie_title)\n",
        "print(movie_rating)"
      ],
      "execution_count": 31,
      "outputs": [
        {
          "output_type": "stream",
          "text": [
            "請輸入電影的名稱\n",
            "請輸入電影的評等\n"
          ],
          "name": "stdout"
        }
      ]
    },
    {
      "cell_type": "code",
      "metadata": {
        "id": "s59eQ92IBf8A",
        "colab_type": "code",
        "colab": {
          "base_uri": "https://localhost:8080/",
          "height": 72
        },
        "outputId": "8a00da28-ca18-49fd-b020-de049537a031"
      },
      "source": [
        "movie_title = input(\"請輸入電影名稱：\")\n",
        "movie_rating = input(\"請輸入電影評分：\")\n",
        "print(\"{}的評分為：{}\".format(movie_title, movie_rating))"
      ],
      "execution_count": 35,
      "outputs": [
        {
          "output_type": "stream",
          "text": [
            "請輸入電影名稱：陽光普照\n",
            "請輸入電影評分：7.7\n",
            "陽光普照的評分為：7.7\n"
          ],
          "name": "stdout"
        }
      ]
    },
    {
      "cell_type": "code",
      "metadata": {
        "id": "9eOqsDkBBf_4",
        "colab_type": "code",
        "colab": {
          "base_uri": "https://localhost:8080/",
          "height": 54
        },
        "outputId": "08cf54f2-96ac-46a6-fe0e-af6bc2eae40b"
      },
      "source": [
        "place = input(\"地點:\")\n",
        "weather = input(\"天氣:\")"
      ],
      "execution_count": 41,
      "outputs": [
        {
          "output_type": "stream",
          "text": [
            "地點:台北\n",
            "天氣:晴\n"
          ],
          "name": "stdout"
        }
      ]
    },
    {
      "cell_type": "code",
      "metadata": {
        "id": "xqMCSaxMBgCw",
        "colab_type": "code",
        "colab": {
          "base_uri": "https://localhost:8080/",
          "height": 35
        },
        "outputId": "bafbc84c-84b8-4186-9b51-ed3f49a1e4c3"
      },
      "source": [
        "print(\"我在{}：天氣{}\".format(place, weather))"
      ],
      "execution_count": 40,
      "outputs": [
        {
          "output_type": "stream",
          "text": [
            "我在台北：天氣陰天\n"
          ],
          "name": "stdout"
        }
      ]
    },
    {
      "cell_type": "code",
      "metadata": {
        "id": "qJNTPfxGBgGo",
        "colab_type": "code",
        "colab": {
          "base_uri": "https://localhost:8080/",
          "height": 54
        },
        "outputId": "3f5c6667-cf2c-4cb4-b3a4-ad0deb5902d0"
      },
      "source": [
        "print(True)\n",
        "print(False)"
      ],
      "execution_count": 42,
      "outputs": [
        {
          "output_type": "stream",
          "text": [
            "True\n",
            "False\n"
          ],
          "name": "stdout"
        }
      ]
    },
    {
      "cell_type": "code",
      "metadata": {
        "id": "M8qAWpmAG0Fe",
        "colab_type": "code",
        "colab": {
          "base_uri": "https://localhost:8080/",
          "height": 54
        },
        "outputId": "af4c467c-a80c-4f79-916b-5fdca29267b0"
      },
      "source": [
        "print(type(True))\n",
        "print(type(False))"
      ],
      "execution_count": 43,
      "outputs": [
        {
          "output_type": "stream",
          "text": [
            "<class 'bool'>\n",
            "<class 'bool'>\n"
          ],
          "name": "stdout"
        }
      ]
    },
    {
      "cell_type": "code",
      "metadata": {
        "id": "uqINsVSUG0KN",
        "colab_type": "code",
        "colab": {
          "base_uri": "https://localhost:8080/",
          "height": 35
        },
        "outputId": "6f24b5d4-f9ad-4cf4-8216-f4d348327a76"
      },
      "source": [
        "id_last_digit = 7\n",
        "print(id_last_digit % 2 == 1)\n"
      ],
      "execution_count": 45,
      "outputs": [
        {
          "output_type": "stream",
          "text": [
            "True\n"
          ],
          "name": "stdout"
        }
      ]
    },
    {
      "cell_type": "code",
      "metadata": {
        "id": "7TAY4FnMG0OX",
        "colab_type": "code",
        "colab": {}
      },
      "source": [
        ""
      ],
      "execution_count": 0,
      "outputs": []
    },
    {
      "cell_type": "code",
      "metadata": {
        "id": "rrzsFZqmG0R0",
        "colab_type": "code",
        "colab": {}
      },
      "source": [
        ""
      ],
      "execution_count": 0,
      "outputs": []
    },
    {
      "cell_type": "code",
      "metadata": {
        "id": "R3LR436QG0Vl",
        "colab_type": "code",
        "colab": {}
      },
      "source": [
        ""
      ],
      "execution_count": 0,
      "outputs": []
    },
    {
      "cell_type": "code",
      "metadata": {
        "id": "4irCWYmsG0Y1",
        "colab_type": "code",
        "colab": {}
      },
      "source": [
        ""
      ],
      "execution_count": 0,
      "outputs": []
    },
    {
      "cell_type": "code",
      "metadata": {
        "id": "tAl2a5qfG0cQ",
        "colab_type": "code",
        "colab": {}
      },
      "source": [
        ""
      ],
      "execution_count": 0,
      "outputs": []
    },
    {
      "cell_type": "code",
      "metadata": {
        "id": "nfDWcxKaG0fd",
        "colab_type": "code",
        "colab": {}
      },
      "source": [
        ""
      ],
      "execution_count": 0,
      "outputs": []
    },
    {
      "cell_type": "markdown",
      "metadata": {
        "id": "t-6xDllxuClX",
        "colab_type": "text"
      },
      "source": [
        ""
      ]
    }
  ]
}