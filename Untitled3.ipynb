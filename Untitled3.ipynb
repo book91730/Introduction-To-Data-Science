{
  "nbformat": 4,
  "nbformat_minor": 0,
  "metadata": {
    "colab": {
      "name": "Untitled3.ipynb",
      "provenance": []
    },
    "kernelspec": {
      "name": "python3",
      "display_name": "Python 3"
    }
  },
  "cells": [
    {
      "cell_type": "code",
      "metadata": {
        "id": "nFIJn6Bo20Z5",
        "colab_type": "code",
        "colab": {
          "base_uri": "https://localhost:8080/",
          "height": 68
        },
        "outputId": "33f6ebf4-448c-418d-e929-c154130eadff"
      },
      "source": [
        "if True:\n",
        "    print(\"First branch\")\n",
        "if True:\n",
        "    print(\"Second branch\")\n",
        "if True:\n",
        "    print(\"Third branch\")"
      ],
      "execution_count": 1,
      "outputs": [
        {
          "output_type": "stream",
          "text": [
            "First branch\n",
            "Second branch\n",
            "Third branch\n"
          ],
          "name": "stdout"
        }
      ]
    },
    {
      "cell_type": "code",
      "metadata": {
        "id": "XvE2mxuiQlvx",
        "colab_type": "code",
        "colab": {
          "base_uri": "https://localhost:8080/",
          "height": 85
        },
        "outputId": "f980bc9a-5376-4f41-e7f4-f95a85ee4967"
      },
      "source": [
        "player_height = float(input(\"請輸入球員身高(公尺):\"))\n",
        "player_weight = float(input(\"請輸入球員體重(公斤):\"))\n",
        "player_bmi = player_weight / player_height**2\n",
        "bmi_label = None\n",
        "if player_bmi > 30:\n",
        "    bmi_label = 'Obese'\n",
        "if player_bmi <= 30 and player_bmi > 25:\n",
        "    bmi_label = 'Overweight'\n",
        "if player_bmi <= 25 and player_bmi > 18.5:\n",
        "    bmi_label = 'Normal weight'\n",
        "if player_bmi <= 18.5:\n",
        "    bmi_label = 'Underweight'\n",
        "print(player_bmi)\n",
        "print(bmi_label)"
      ],
      "execution_count": 2,
      "outputs": [
        {
          "output_type": "stream",
          "text": [
            "請輸入球員身高(公尺):2.2\n",
            "請輸入球員體重(公斤):100\n",
            "20.661157024793386\n",
            "Normal weight\n"
          ],
          "name": "stdout"
        }
      ]
    },
    {
      "cell_type": "code",
      "metadata": {
        "id": "AoF2bZFQQmFw",
        "colab_type": "code",
        "colab": {
          "base_uri": "https://localhost:8080/",
          "height": 51
        },
        "outputId": "2a55cfa6-88d2-4511-9e5f-b2e44857c258"
      },
      "source": [
        "user_int = int(input(\"請輸入一個正整數:\"))\n",
        "if user_int % 3 == 0:\n",
        "    print(\"Fizz\")\n",
        "if user_int % 5 == 0:\n",
        "    print(\"Buzz\")"
      ],
      "execution_count": 3,
      "outputs": [
        {
          "output_type": "stream",
          "text": [
            "請輸入一個正整數:99\n",
            "Fizz\n"
          ],
          "name": "stdout"
        }
      ]
    },
    {
      "cell_type": "code",
      "metadata": {
        "id": "dfI0E8dIQmJg",
        "colab_type": "code",
        "colab": {
          "base_uri": "https://localhost:8080/",
          "height": 51
        },
        "outputId": "c40b77ae-aff6-4405-89ba-c8b82ac21f16"
      },
      "source": [
        "user_int = int(input(\"請輸入一個正整數:\"))\n",
        "if user_int % 15 == 0:\n",
        "    print(\"Fizz Buzz\")\n",
        "elif user_int % 5 == 0:\n",
        "    print(\"Buzz\")\n",
        "elif user_int % 3 == 0:\n",
        "    print(\"Fizz\")\n",
        "else:\n",
        "    print(user_int)"
      ],
      "execution_count": 4,
      "outputs": [
        {
          "output_type": "stream",
          "text": [
            "請輸入一個正整數:65\n",
            "Buzz\n"
          ],
          "name": "stdout"
        }
      ]
    },
    {
      "cell_type": "code",
      "metadata": {
        "id": "p1RUbGVUQmNQ",
        "colab_type": "code",
        "colab": {
          "base_uri": "https://localhost:8080/",
          "height": 187
        },
        "outputId": "fd4b86cf-c05d-4aea-b724-7e18c0e0a38d"
      },
      "source": [
        "i = 2\n",
        "while i <= 20:\n",
        "    print(i)\n",
        "    i += 2"
      ],
      "execution_count": 5,
      "outputs": [
        {
          "output_type": "stream",
          "text": [
            "2\n",
            "4\n",
            "6\n",
            "8\n",
            "10\n",
            "12\n",
            "14\n",
            "16\n",
            "18\n",
            "20\n"
          ],
          "name": "stdout"
        }
      ]
    },
    {
      "cell_type": "code",
      "metadata": {
        "id": "kXPJb852QmQA",
        "colab_type": "code",
        "colab": {
          "base_uri": "https://localhost:8080/",
          "height": 204
        },
        "outputId": "65f92628-c297-49e0-a547-991f1d91a5d0"
      },
      "source": [
        "i = 1\n",
        "while i <= 10:\n",
        "    print(i)\n",
        "    i += 1\n",
        "print(\"While loop is done.\")"
      ],
      "execution_count": 6,
      "outputs": [
        {
          "output_type": "stream",
          "text": [
            "1\n",
            "2\n",
            "3\n",
            "4\n",
            "5\n",
            "6\n",
            "7\n",
            "8\n",
            "9\n",
            "10\n",
            "While loop is done.\n"
          ],
          "name": "stdout"
        }
      ]
    },
    {
      "cell_type": "code",
      "metadata": {
        "id": "bIck-OJhQmTQ",
        "colab_type": "code",
        "colab": {
          "base_uri": "https://localhost:8080/",
          "height": 34
        },
        "outputId": "edec1996-6154-4b17-ac17-28833f489f66"
      },
      "source": [
        "i = 1\n",
        "counter = 0\n",
        "while i <= 10:\n",
        "    counter += 1\n",
        "    i += 1\n",
        "print(counter)"
      ],
      "execution_count": 7,
      "outputs": [
        {
          "output_type": "stream",
          "text": [
            "10\n"
          ],
          "name": "stdout"
        }
      ]
    },
    {
      "cell_type": "code",
      "metadata": {
        "id": "NFTDB-T6QmWY",
        "colab_type": "code",
        "colab": {
          "base_uri": "https://localhost:8080/",
          "height": 34
        },
        "outputId": "f941f7c8-13e1-437d-e46c-0caf5c5fa93b"
      },
      "source": [
        "i = 1\n",
        "counter = 0\n",
        "while i <= 10:\n",
        "    if i % 2 == 0:\n",
        "        counter += 1\n",
        "    i += 1\n",
        "print(counter)"
      ],
      "execution_count": 8,
      "outputs": [
        {
          "output_type": "stream",
          "text": [
            "5\n"
          ],
          "name": "stdout"
        }
      ]
    },
    {
      "cell_type": "code",
      "metadata": {
        "id": "psmO59TbQmcY",
        "colab_type": "code",
        "colab": {
          "base_uri": "https://localhost:8080/",
          "height": 34
        },
        "outputId": "7ada7d54-2131-4ede-fada-0fc526c67c09"
      },
      "source": [
        "i = 1\n",
        "summation = 0\n",
        "while i <= 100:\n",
        "    summation += i\n",
        "    i += 1\n",
        "print(summation)"
      ],
      "execution_count": 12,
      "outputs": [
        {
          "output_type": "stream",
          "text": [
            "5050\n"
          ],
          "name": "stdout"
        }
      ]
    },
    {
      "cell_type": "code",
      "metadata": {
        "id": "Cguo-tbTQmiQ",
        "colab_type": "code",
        "colab": {
          "base_uri": "https://localhost:8080/",
          "height": 901
        },
        "outputId": "123611aa-91b0-42b3-efc4-38d8cdb36806"
      },
      "source": [
        "x = int(input(\"請輸入起始的正整數:\"))\n",
        "y = int(input(\"請輸入終止的正整數:\"))\n",
        "i = x\n",
        "while i <= y:\n",
        "    if i % 2 == 1:\n",
        "        print(i)\n",
        "    i += 1"
      ],
      "execution_count": 18,
      "outputs": [
        {
          "output_type": "stream",
          "text": [
            "請輸入起始的正整數:1\n",
            "請輸入終止的正整數:100\n",
            "1\n",
            "3\n",
            "5\n",
            "7\n",
            "9\n",
            "11\n",
            "13\n",
            "15\n",
            "17\n",
            "19\n",
            "21\n",
            "23\n",
            "25\n",
            "27\n",
            "29\n",
            "31\n",
            "33\n",
            "35\n",
            "37\n",
            "39\n",
            "41\n",
            "43\n",
            "45\n",
            "47\n",
            "49\n",
            "51\n",
            "53\n",
            "55\n",
            "57\n",
            "59\n",
            "61\n",
            "63\n",
            "65\n",
            "67\n",
            "69\n",
            "71\n",
            "73\n",
            "75\n",
            "77\n",
            "79\n",
            "81\n",
            "83\n",
            "85\n",
            "87\n",
            "89\n",
            "91\n",
            "93\n",
            "95\n",
            "97\n",
            "99\n"
          ],
          "name": "stdout"
        }
      ]
    }
  ]
}